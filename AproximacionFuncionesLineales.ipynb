{
  "cells": [
    {
      "cell_type": "markdown",
      "metadata": {
        "id": "view-in-github",
        "colab_type": "text"
      },
      "source": [
        "<a href=\"https://colab.research.google.com/github/JMGO-coding/RL_GGM/blob/main/AproximacionFuncionesLineales.ipynb\" target=\"_parent\"><img src=\"https://colab.research.google.com/assets/colab-badge.svg\" alt=\"Open In Colab\"/></a>"
      ]
    },
    {
      "cell_type": "markdown",
      "metadata": {
        "id": "9vN8l4-UvgqJ",
        "pycharm": {
          "name": "#%%\n"
        }
      },
      "source": [
        "# **Aproximación de Funciones**\n",
        "\n",
        "En este notebook se estudian algoritmos de Control con Aproximaciones, como SARSA semi-gradiente y Deep Q-Learning. Se probarán dichos algoritmos en el entorno Mountain Car de Gymnasium.\n"
      ]
    },
    {
      "cell_type": "markdown",
      "metadata": {
        "id": "AYUqQBl1vgqM"
      },
      "source": [
        "## **Preparamos el entorno MountainCar que se usará en el notebook**\n"
      ]
    },
    {
      "cell_type": "code",
      "execution_count": 1,
      "metadata": {
        "id": "ITOgJ74WvgqL"
      },
      "outputs": [],
      "source": [
        "#@title Importamos las librerias necesarias\n",
        "import random\n",
        "import gymnasium as gym\n",
        "from gymnasium import ObservationWrapper\n",
        "from tqdm import tqdm"
      ]
    },
    {
      "cell_type": "code",
      "source": [
        "#@title Fijamos semilla\n",
        "\n",
        "import os\n",
        "import gc\n",
        "import torch\n",
        "import numpy as np\n",
        "import gymnasium as gym\n",
        "\n",
        "# Configuración del dispositivo (CPU o GPU)\n",
        "device = torch.device(\"cuda\" if torch.cuda.is_available() else \"cpu\")\n",
        "print(f\"Usando dispositivo: {device}\")\n",
        "\n",
        "# Liberación de memoria para evitar problemas de consumo en GPU\n",
        "gc.collect() # Ejecuta el recolector de basura de Python\n",
        "torch.cuda.empty_cache() # Vacía la caché de memoria en GPU\n",
        "\n",
        "# Depuración de errores en CUDA\n",
        "os.environ['CUDA_LAUNCH_BLOCKING'] = '1' # Muestra errores de CUDA en el punto exacto donde ocurren\n",
        "\n",
        "# Configuración de la semilla para reproducibilidad\n",
        "seed = 2024 # Se define una semilla fija\n",
        "\n",
        "# Fijar la semilla en NumPy\n",
        "np.random.seed(seed) # Para generar números aleatorios consistentes en NumPy\n",
        "np.random.default_rng(seed) # Establece una instancia del generador de NumPy con la misma semilla\n",
        "\n",
        "# Fijar la semilla en Python\n",
        "os.environ['PYTHONHASHSEED'] = str(seed) # Evita variabilidad en hashing de Python\n",
        "\n",
        "# Fijar la semilla en PyTorch\n",
        "torch.manual_seed(seed) # Asegura resultados reproducibles en operaciones de PyTorch\n",
        "\n",
        "if torch.cuda.is_available(): # Si hay GPU disponible\n",
        "    torch.cuda.manual_seed(seed) # Fija la semilla para la GPU\n",
        "    torch.backends.cudnn.deterministic = True # Hace las operaciones de CUDNN determinísticas\n",
        "    torch.backends.cudnn.benchmark = False # Desactiva optimizaciones de CUDNN para evitar variabilidad\n",
        "\n",
        "# Fijar la semilla en Gymnasium\n",
        "def make_env(env_name):\n",
        "    env = gym.make(env_name)\n",
        "    env.reset(seed=seed) # Establece la semilla en el entorno de Gymnasium\n",
        "    return env\n",
        "\n",
        "# Ejemplo de creación de un entorno con semilla\n",
        "env_name = \"MountainCar-v0\" # Cambiar según el entorno deseado\n",
        "env = make_env(env_name)"
      ],
      "metadata": {
        "id": "QB0Yb61R_Axz",
        "outputId": "3dbfa153-7f30-4974-e332-f71f757a85c0",
        "colab": {
          "base_uri": "https://localhost:8080/"
        }
      },
      "execution_count": 2,
      "outputs": [
        {
          "output_type": "stream",
          "name": "stdout",
          "text": [
            "Usando dispositivo: cpu\n"
          ]
        }
      ]
    },
    {
      "cell_type": "code",
      "source": [
        "#@title Copiar el repositorio ``JMGO-coding/RL_GGM``.\n",
        "\n",
        "!git clone https://github.com/JMGO-coding/RL_GGM.git\n",
        "!cd RL_GGM/"
      ],
      "metadata": {
        "id": "vPYsjvH0MLaP",
        "outputId": "024fe7ea-3d85-416b-98d1-74ad3ea32293",
        "colab": {
          "base_uri": "https://localhost:8080/"
        }
      },
      "execution_count": 3,
      "outputs": [
        {
          "output_type": "stream",
          "name": "stdout",
          "text": [
            "Cloning into 'RL_GGM'...\n",
            "remote: Enumerating objects: 720, done.\u001b[K\n",
            "remote: Counting objects: 100% (53/53), done.\u001b[K\n",
            "remote: Compressing objects: 100% (46/46), done.\u001b[K\n",
            "remote: Total 720 (delta 38), reused 7 (delta 7), pack-reused 667 (from 1)\u001b[K\n",
            "Receiving objects: 100% (720/720), 3.04 MiB | 13.71 MiB/s, done.\n",
            "Resolving deltas: 100% (409/409), done.\n"
          ]
        }
      ]
    },
    {
      "cell_type": "code",
      "source": [
        "#@title Importamos todas las clases y funciones\n",
        "\n",
        "import sys\n",
        "\n",
        "# Añadir los directorio fuentes al path de Python\n",
        "sys.path.append('/content/RL_GGM')\n",
        "sys.path.append('/content/RL_GGM/src')\n",
        "\n",
        "# Verificar que se han añadido correctamente\n",
        "print(sys.path)\n",
        "\n",
        "from agents import AgentSemiGradientSARSA, AgentDeepQLearning\n",
        "from wrappers import TileCodingEnv, MountainCarCustomRewards"
      ],
      "metadata": {
        "id": "0fp9Ldk2CN5b",
        "outputId": "b8dadf4e-adee-44b0-bcce-4c54272d6f72",
        "colab": {
          "base_uri": "https://localhost:8080/"
        }
      },
      "execution_count": 4,
      "outputs": [
        {
          "output_type": "stream",
          "name": "stdout",
          "text": [
            "['/content', '/env/python', '/usr/lib/python311.zip', '/usr/lib/python3.11', '/usr/lib/python3.11/lib-dynload', '', '/usr/local/lib/python3.11/dist-packages', '/usr/lib/python3/dist-packages', '/usr/local/lib/python3.11/dist-packages/IPython/extensions', '/root/.ipython', '/content/RL_GGM', '/content/RL_GGM/src']\n"
          ]
        }
      ]
    },
    {
      "cell_type": "code",
      "execution_count": 5,
      "metadata": {
        "colab": {
          "base_uri": "https://localhost:8080/"
        },
        "id": "Zpo8BQEAvgqM",
        "outputId": "ae3e80bf-b53b-4ab1-f0f7-c2dae6ccdce7"
      },
      "outputs": [
        {
          "output_type": "execute_result",
          "data": {
            "text/plain": [
              "(array([-0.46483374,  0.        ], dtype=float32), {})"
            ]
          },
          "metadata": {},
          "execution_count": 5
        }
      ],
      "source": [
        "#@title Cargamos el entorno\n",
        "env = gym.make(\"MountainCar-v0\", render_mode=\"rgb_array\")\n",
        "env.reset(seed=seed)"
      ]
    },
    {
      "cell_type": "markdown",
      "metadata": {
        "id": "QgSJYG2oLcuF"
      },
      "source": [
        "## Este es el entorno"
      ]
    },
    {
      "cell_type": "code",
      "execution_count": 6,
      "metadata": {
        "colab": {
          "base_uri": "https://localhost:8080/",
          "height": 631
        },
        "id": "DosahbQxLebh",
        "outputId": "132f9c08-de3f-496a-ebfc-f9099d05ce3b"
      },
      "outputs": [
        {
          "output_type": "stream",
          "name": "stderr",
          "text": [
            "/usr/local/lib/python3.11/dist-packages/pygame/pkgdata.py:25: DeprecationWarning: pkg_resources is deprecated as an API. See https://setuptools.pypa.io/en/latest/pkg_resources.html\n",
            "  from pkg_resources import resource_stream, resource_exists\n",
            "/usr/local/lib/python3.11/dist-packages/pkg_resources/__init__.py:3154: DeprecationWarning: Deprecated call to `pkg_resources.declare_namespace('google')`.\n",
            "Implementing implicit namespace packages (as specified in PEP 420) is preferred to `pkg_resources.declare_namespace`. See https://setuptools.pypa.io/en/latest/references/keywords.html#keyword-namespace-packages\n",
            "  declare_namespace(pkg)\n",
            "/usr/local/lib/python3.11/dist-packages/pkg_resources/__init__.py:3154: DeprecationWarning: Deprecated call to `pkg_resources.declare_namespace('google.cloud')`.\n",
            "Implementing implicit namespace packages (as specified in PEP 420) is preferred to `pkg_resources.declare_namespace`. See https://setuptools.pypa.io/en/latest/references/keywords.html#keyword-namespace-packages\n",
            "  declare_namespace(pkg)\n",
            "/usr/local/lib/python3.11/dist-packages/pkg_resources/__init__.py:3154: DeprecationWarning: Deprecated call to `pkg_resources.declare_namespace('sphinxcontrib')`.\n",
            "Implementing implicit namespace packages (as specified in PEP 420) is preferred to `pkg_resources.declare_namespace`. See https://setuptools.pypa.io/en/latest/references/keywords.html#keyword-namespace-packages\n",
            "  declare_namespace(pkg)\n"
          ]
        },
        {
          "output_type": "execute_result",
          "data": {
            "text/plain": [
              "array([[[255, 255, 255],\n",
              "        [255, 255, 255],\n",
              "        [255, 255, 255],\n",
              "        ...,\n",
              "        [255, 255, 255],\n",
              "        [255, 255, 255],\n",
              "        [255, 255, 255]],\n",
              "\n",
              "       [[255, 255, 255],\n",
              "        [255, 255, 255],\n",
              "        [255, 255, 255],\n",
              "        ...,\n",
              "        [255, 255, 255],\n",
              "        [255, 255, 255],\n",
              "        [255, 255, 255]],\n",
              "\n",
              "       [[255, 255, 255],\n",
              "        [255, 255, 255],\n",
              "        [255, 255, 255],\n",
              "        ...,\n",
              "        [255, 255, 255],\n",
              "        [255, 255, 255],\n",
              "        [255, 255, 255]],\n",
              "\n",
              "       ...,\n",
              "\n",
              "       [[255, 255, 255],\n",
              "        [255, 255, 255],\n",
              "        [255, 255, 255],\n",
              "        ...,\n",
              "        [255, 255, 255],\n",
              "        [255, 255, 255],\n",
              "        [255, 255, 255]],\n",
              "\n",
              "       [[255, 255, 255],\n",
              "        [255, 255, 255],\n",
              "        [255, 255, 255],\n",
              "        ...,\n",
              "        [255, 255, 255],\n",
              "        [255, 255, 255],\n",
              "        [255, 255, 255]],\n",
              "\n",
              "       [[255, 255, 255],\n",
              "        [255, 255, 255],\n",
              "        [255, 255, 255],\n",
              "        ...,\n",
              "        [255, 255, 255],\n",
              "        [255, 255, 255],\n",
              "        [255, 255, 255]]], dtype=uint8)"
            ],
            "text/html": [
              "<style>\n",
              "      .ndarray_repr .ndarray_raw_data {\n",
              "        display: none;\n",
              "      }\n",
              "      .ndarray_repr.show_array .ndarray_raw_data {\n",
              "        display: block;\n",
              "      }\n",
              "      .ndarray_repr.show_array .ndarray_image_preview {\n",
              "        display: none;\n",
              "      }\n",
              "      </style>\n",
              "      <div id=\"id-5cf1c366-e34f-4443-b7f8-7f614409af76\" class=\"ndarray_repr\"><pre>ndarray (400, 600, 3) <button style=\"padding: 0 2px;\">show data</button></pre><img src=\"data:image/png;base64,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\" class=\"ndarray_image_preview\" /><pre class=\"ndarray_raw_data\">array([[[255, 255, 255],\n",
              "        [255, 255, 255],\n",
              "        [255, 255, 255],\n",
              "        ...,\n",
              "        [255, 255, 255],\n",
              "        [255, 255, 255],\n",
              "        [255, 255, 255]],\n",
              "\n",
              "       [[255, 255, 255],\n",
              "        [255, 255, 255],\n",
              "        [255, 255, 255],\n",
              "        ...,\n",
              "        [255, 255, 255],\n",
              "        [255, 255, 255],\n",
              "        [255, 255, 255]],\n",
              "\n",
              "       [[255, 255, 255],\n",
              "        [255, 255, 255],\n",
              "        [255, 255, 255],\n",
              "        ...,\n",
              "        [255, 255, 255],\n",
              "        [255, 255, 255],\n",
              "        [255, 255, 255]],\n",
              "\n",
              "       ...,\n",
              "\n",
              "       [[255, 255, 255],\n",
              "        [255, 255, 255],\n",
              "        [255, 255, 255],\n",
              "        ...,\n",
              "        [255, 255, 255],\n",
              "        [255, 255, 255],\n",
              "        [255, 255, 255]],\n",
              "\n",
              "       [[255, 255, 255],\n",
              "        [255, 255, 255],\n",
              "        [255, 255, 255],\n",
              "        ...,\n",
              "        [255, 255, 255],\n",
              "        [255, 255, 255],\n",
              "        [255, 255, 255]],\n",
              "\n",
              "       [[255, 255, 255],\n",
              "        [255, 255, 255],\n",
              "        [255, 255, 255],\n",
              "        ...,\n",
              "        [255, 255, 255],\n",
              "        [255, 255, 255],\n",
              "        [255, 255, 255]]], dtype=uint8)</pre></div><script>\n",
              "      (() => {\n",
              "      const titles = ['show data', 'hide data'];\n",
              "      let index = 0\n",
              "      document.querySelector('#id-5cf1c366-e34f-4443-b7f8-7f614409af76 button').onclick = (e) => {\n",
              "        document.querySelector('#id-5cf1c366-e34f-4443-b7f8-7f614409af76').classList.toggle('show_array');\n",
              "        index = (++index) % 2;\n",
              "        document.querySelector('#id-5cf1c366-e34f-4443-b7f8-7f614409af76 button').textContent = titles[index];\n",
              "        e.preventDefault();\n",
              "        e.stopPropagation();\n",
              "      }\n",
              "      })();\n",
              "    </script>"
            ]
          },
          "metadata": {},
          "execution_count": 6
        }
      ],
      "source": [
        "env.render()"
      ]
    },
    {
      "cell_type": "markdown",
      "metadata": {
        "id": "kdWiKaebWztR"
      },
      "source": [
        "### **Las acciones del entorno**\n",
        "\n",
        "La acciones disponibles son:\n",
        "- 0: Acelerar a la izquierda.\n",
        "- 1: No acelerar\n",
        "- 2: Acelerar a la derecha"
      ]
    },
    {
      "cell_type": "code",
      "execution_count": 7,
      "metadata": {
        "colab": {
          "base_uri": "https://localhost:8080/"
        },
        "id": "XqboAsIbW_nV",
        "outputId": "3cf79591-0617-4cb7-94da-b4909f45c56c"
      },
      "outputs": [
        {
          "output_type": "execute_result",
          "data": {
            "text/plain": [
              "Discrete(3)"
            ]
          },
          "metadata": {},
          "execution_count": 7
        }
      ],
      "source": [
        "env.action_space"
      ]
    },
    {
      "cell_type": "markdown",
      "metadata": {
        "id": "H8RTbpT2XG6L"
      },
      "source": [
        "### **Los estados del entorno**\n",
        "\n",
        "Las observaciones es un ndarray con dimensión (2,) donde los elementos se corresponde a los siguientes valores:\n",
        "\n",
        "| Número | Observación                          | Mínimo | Máximo | Unidad        |\n",
        "|--------|--------------------------------------|--------|--------|---------------|\n",
        "| 0      | Posición del coche en el eje x      | -1.2   | 0.6    | posición (m)  |\n",
        "| 1      | Velocidad del coche                 | -0.07  | 0.07   | velocidad (v) |\n"
      ]
    },
    {
      "cell_type": "code",
      "execution_count": 8,
      "metadata": {
        "colab": {
          "base_uri": "https://localhost:8080/"
        },
        "id": "im6oS8xqXj0b",
        "outputId": "bf578e94-6cd4-4663-d7f2-a453639dc1c3"
      },
      "outputs": [
        {
          "output_type": "execute_result",
          "data": {
            "text/plain": [
              "(Box([-1.2  -0.07], [0.6  0.07], (2,), float32),\n",
              " array([-1.2 , -0.07], dtype=float32),\n",
              " array([0.6 , 0.07], dtype=float32))"
            ]
          },
          "metadata": {},
          "execution_count": 8
        }
      ],
      "source": [
        "env.observation_space, env.observation_space.low,  env.observation_space.high"
      ]
    },
    {
      "cell_type": "markdown",
      "source": [
        "### **Representaciones Gráficas**\n",
        "\n",
        "Para comprobar el aprendizaje se mostrará la función $f(t)=\\frac{\\sum_{i=1}^t R_i}{t}$ para $t=1,2,\\ldots, NumeroEpisodios$. La justificación es la siguiente. Como sabemmos que el retorno en el estados inicial 1 (pues no hay descuento) o 9, si se divide por el número de episodios ejecutados se calcular el porcentaje de recompensas positivas obtenidas. Dicho de otra forma, nos dirá el porcentaje de veces que el agente ha llegado al estado terminal.\n",
        "\n",
        "También se muestra una gráfica con la longitud de los episodios en cada estado."
      ],
      "metadata": {
        "id": "nn7Ciaz1VqIL"
      }
    },
    {
      "cell_type": "code",
      "source": [
        "# @title Funciones para mostrar los resultados\n",
        "\n",
        "def plot(list_stats):\n",
        "  # Creamos una lista de índices para el eje x\n",
        "  indices = list(range(len(list_stats)))\n",
        "\n",
        "  # Creamos el gráfico\n",
        "  plt.figure(figsize=(15, 8))\n",
        "  plt.plot(indices, list_stats)\n",
        "\n",
        "  # Añadimos título y etiquetas\n",
        "  plt.title('Proporción de recompensas')\n",
        "  plt.xlabel('Episodio')\n",
        "  plt.ylabel('Proporción')\n",
        "\n",
        "  # Mostramos el gráfico\n",
        "  plt.grid(True)\n",
        "  plt.show()\n",
        "\n",
        "# Función para mostrar el tamaño de los episodios\n",
        "def plot_episode_lengths(episode_lengths):\n",
        "    \"\"\"\n",
        "    Grafica la longitud de los episodios\n",
        "    \"\"\"\n",
        "    # Creamos una lista de índices para el eje x (número de episodios)\n",
        "    indices = list(range(len(episode_lengths)))\n",
        "\n",
        "    # Creamos el gráfico\n",
        "    plt.figure(figsize=(15, 8))\n",
        "    plt.plot(indices, episode_lengths)\n",
        "\n",
        "    # Añadimos título y etiquetas\n",
        "    plt.title('Longitud de los Episodios')\n",
        "    plt.xlabel('Episodio')\n",
        "    plt.ylabel('Longitud del Episodio')\n",
        "\n",
        "    # Mostramos el gráfico\n",
        "    plt.grid(True)\n",
        "    plt.show()\n",
        "\n",
        "# Histograma con la longitud de los episodios\n",
        "def plot_episode_lengths_histogram(episode_lengths, bins=20):\n",
        "    \"\"\"\n",
        "    Muestra un histograma de la frecuencia de las longitudes de episodios\n",
        "    \"\"\"\n",
        "    plt.figure(figsize=(15, 8))\n",
        "    plt.hist(episode_lengths, bins=bins, alpha=0.75, color='blue', edgecolor='black')\n",
        "\n",
        "    plt.title('Distribución de la Longitud de los Episodios')\n",
        "    plt.xlabel('Longitud del Episodio')\n",
        "    plt.ylabel('Frecuencia')\n",
        "    plt.grid(True)\n",
        "    plt.show()"
      ],
      "metadata": {
        "id": "peDdZjedWUyH"
      },
      "execution_count": 9,
      "outputs": []
    },
    {
      "cell_type": "markdown",
      "source": [
        "### **Preparación del entorno para grabar episodios de Gymnasium**"
      ],
      "metadata": {
        "id": "vKwLgNwyXYS1"
      }
    },
    {
      "cell_type": "code",
      "source": [
        "# Instalación de algunos paquetes.\n",
        "!apt-get update\n",
        "\n",
        "# Para visualizar en colab https://medium.com/@coldstart_coder/visually-rendering-python-gymnasium-in-jupyter-notebooks-4413e4087a0f\n",
        "!apt-get install -y python-opengl ffmpeg\n",
        "!apt-get install --upgrade cmake\n",
        "\n",
        "# Para usar gymnasium[box2d]\n",
        "!apt install swig xvfb\n",
        "!pip install -U  pyvirtualdisplay"
      ],
      "metadata": {
        "id": "cuEWjfooXcBm",
        "outputId": "84771b98-5a00-48b6-c198-c3c13d6e7dd8",
        "colab": {
          "base_uri": "https://localhost:8080/"
        }
      },
      "execution_count": 10,
      "outputs": [
        {
          "output_type": "stream",
          "name": "stdout",
          "text": [
            "\r0% [Working]\r            \rGet:1 http://security.ubuntu.com/ubuntu jammy-security InRelease [129 kB]\n",
            "\r0% [Connecting to archive.ubuntu.com] [1 InRelease 12.7 kB/129 kB 10%] [Connected to cloud.r-project\r0% [Waiting for headers] [Connected to cloud.r-project.org (108.157.173.52)] [Connected to r2u.stat.\r                                                                                                    \rHit:2 http://archive.ubuntu.com/ubuntu jammy InRelease\n",
            "\r                                                                                                    \rGet:3 http://archive.ubuntu.com/ubuntu jammy-updates InRelease [128 kB]\n",
            "\r0% [3 InRelease 15.6 kB/128 kB 12%] [Waiting for headers] [Connected to r2u.stat.illinois.edu (192.1\r                                                                                                    \rGet:4 https://cloud.r-project.org/bin/linux/ubuntu jammy-cran40/ InRelease [3,632 B]\n",
            "Get:5 https://developer.download.nvidia.com/compute/cuda/repos/ubuntu2204/x86_64  InRelease [1,581 B]\n",
            "Get:6 http://archive.ubuntu.com/ubuntu jammy-backports InRelease [127 kB]\n",
            "Get:7 https://r2u.stat.illinois.edu/ubuntu jammy InRelease [6,555 B]\n",
            "Hit:8 https://ppa.launchpadcontent.net/deadsnakes/ppa/ubuntu jammy InRelease\n",
            "Hit:9 https://ppa.launchpadcontent.net/graphics-drivers/ppa/ubuntu jammy InRelease\n",
            "Get:10 http://security.ubuntu.com/ubuntu jammy-security/multiverse amd64 Packages [56.4 kB]\n",
            "Hit:11 https://ppa.launchpadcontent.net/ubuntugis/ppa/ubuntu jammy InRelease\n",
            "Get:12 http://security.ubuntu.com/ubuntu jammy-security/main amd64 Packages [2,682 kB]\n",
            "Get:13 http://security.ubuntu.com/ubuntu jammy-security/restricted amd64 Packages [3,774 kB]\n",
            "Get:14 https://developer.download.nvidia.com/compute/cuda/repos/ubuntu2204/x86_64  Packages [1,369 kB]\n",
            "Get:15 http://archive.ubuntu.com/ubuntu jammy-updates/multiverse amd64 Packages [64.2 kB]\n",
            "Get:16 http://archive.ubuntu.com/ubuntu jammy-updates/main amd64 Packages [2,988 kB]\n",
            "Get:17 http://archive.ubuntu.com/ubuntu jammy-updates/universe amd64 Packages [1,533 kB]\n",
            "Get:18 http://archive.ubuntu.com/ubuntu jammy-updates/restricted amd64 Packages [3,934 kB]\n",
            "Get:19 https://r2u.stat.illinois.edu/ubuntu jammy/main all Packages [8,730 kB]\n",
            "Get:20 https://r2u.stat.illinois.edu/ubuntu jammy/main amd64 Packages [2,668 kB]\n",
            "Fetched 28.2 MB in 4s (6,576 kB/s)\n",
            "Reading package lists... Done\n",
            "W: Skipping acquire of configured file 'main/source/Sources' as repository 'https://r2u.stat.illinois.edu/ubuntu jammy InRelease' does not seem to provide it (sources.list entry misspelt?)\n",
            "Reading package lists... Done\n",
            "Building dependency tree... Done\n",
            "Reading state information... Done\n",
            "E: Unable to locate package python-opengl\n",
            "Reading package lists... Done\n",
            "Building dependency tree... Done\n",
            "Reading state information... Done\n",
            "cmake is already the newest version (3.22.1-1ubuntu1.22.04.2).\n",
            "0 upgraded, 0 newly installed, 0 to remove and 32 not upgraded.\n",
            "Reading package lists... Done\n",
            "Building dependency tree... Done\n",
            "Reading state information... Done\n",
            "The following additional packages will be installed:\n",
            "  libfontenc1 libxfont2 libxkbfile1 swig4.0 x11-xkb-utils xfonts-base xfonts-encodings xfonts-utils\n",
            "  xserver-common\n",
            "Suggested packages:\n",
            "  swig-doc swig-examples swig4.0-examples swig4.0-doc\n",
            "The following NEW packages will be installed:\n",
            "  libfontenc1 libxfont2 libxkbfile1 swig swig4.0 x11-xkb-utils xfonts-base xfonts-encodings\n",
            "  xfonts-utils xserver-common xvfb\n",
            "0 upgraded, 11 newly installed, 0 to remove and 32 not upgraded.\n",
            "Need to get 8,930 kB of archives.\n",
            "After this operation, 17.5 MB of additional disk space will be used.\n",
            "Get:1 http://archive.ubuntu.com/ubuntu jammy/main amd64 libfontenc1 amd64 1:1.1.4-1build3 [14.7 kB]\n",
            "Get:2 http://archive.ubuntu.com/ubuntu jammy/main amd64 libxfont2 amd64 1:2.0.5-1build1 [94.5 kB]\n",
            "Get:3 http://archive.ubuntu.com/ubuntu jammy/main amd64 libxkbfile1 amd64 1:1.1.0-1build3 [71.8 kB]\n",
            "Get:4 http://archive.ubuntu.com/ubuntu jammy/universe amd64 swig4.0 amd64 4.0.2-1ubuntu1 [1,110 kB]\n",
            "Get:5 http://archive.ubuntu.com/ubuntu jammy/universe amd64 swig all 4.0.2-1ubuntu1 [5,632 B]\n",
            "Get:6 http://archive.ubuntu.com/ubuntu jammy/main amd64 x11-xkb-utils amd64 7.7+5build4 [172 kB]\n",
            "Get:7 http://archive.ubuntu.com/ubuntu jammy/main amd64 xfonts-encodings all 1:1.0.5-0ubuntu2 [578 kB]\n",
            "Get:8 http://archive.ubuntu.com/ubuntu jammy/main amd64 xfonts-utils amd64 1:7.7+6build2 [94.6 kB]\n",
            "Get:9 http://archive.ubuntu.com/ubuntu jammy/main amd64 xfonts-base all 1:1.0.5 [5,896 kB]\n",
            "Get:10 http://archive.ubuntu.com/ubuntu jammy-updates/main amd64 xserver-common all 2:21.1.4-2ubuntu1.7~22.04.13 [29.1 kB]\n",
            "Get:11 http://archive.ubuntu.com/ubuntu jammy-updates/universe amd64 xvfb amd64 2:21.1.4-2ubuntu1.7~22.04.13 [863 kB]\n",
            "Fetched 8,930 kB in 0s (24.6 MB/s)\n",
            "Selecting previously unselected package libfontenc1:amd64.\n",
            "(Reading database ... 124947 files and directories currently installed.)\n",
            "Preparing to unpack .../00-libfontenc1_1%3a1.1.4-1build3_amd64.deb ...\n",
            "Unpacking libfontenc1:amd64 (1:1.1.4-1build3) ...\n",
            "Selecting previously unselected package libxfont2:amd64.\n",
            "Preparing to unpack .../01-libxfont2_1%3a2.0.5-1build1_amd64.deb ...\n",
            "Unpacking libxfont2:amd64 (1:2.0.5-1build1) ...\n",
            "Selecting previously unselected package libxkbfile1:amd64.\n",
            "Preparing to unpack .../02-libxkbfile1_1%3a1.1.0-1build3_amd64.deb ...\n",
            "Unpacking libxkbfile1:amd64 (1:1.1.0-1build3) ...\n",
            "Selecting previously unselected package swig4.0.\n",
            "Preparing to unpack .../03-swig4.0_4.0.2-1ubuntu1_amd64.deb ...\n",
            "Unpacking swig4.0 (4.0.2-1ubuntu1) ...\n",
            "Selecting previously unselected package swig.\n",
            "Preparing to unpack .../04-swig_4.0.2-1ubuntu1_all.deb ...\n",
            "Unpacking swig (4.0.2-1ubuntu1) ...\n",
            "Selecting previously unselected package x11-xkb-utils.\n",
            "Preparing to unpack .../05-x11-xkb-utils_7.7+5build4_amd64.deb ...\n",
            "Unpacking x11-xkb-utils (7.7+5build4) ...\n",
            "Selecting previously unselected package xfonts-encodings.\n",
            "Preparing to unpack .../06-xfonts-encodings_1%3a1.0.5-0ubuntu2_all.deb ...\n",
            "Unpacking xfonts-encodings (1:1.0.5-0ubuntu2) ...\n",
            "Selecting previously unselected package xfonts-utils.\n",
            "Preparing to unpack .../07-xfonts-utils_1%3a7.7+6build2_amd64.deb ...\n",
            "Unpacking xfonts-utils (1:7.7+6build2) ...\n",
            "Selecting previously unselected package xfonts-base.\n",
            "Preparing to unpack .../08-xfonts-base_1%3a1.0.5_all.deb ...\n",
            "Unpacking xfonts-base (1:1.0.5) ...\n",
            "Selecting previously unselected package xserver-common.\n",
            "Preparing to unpack .../09-xserver-common_2%3a21.1.4-2ubuntu1.7~22.04.13_all.deb ...\n",
            "Unpacking xserver-common (2:21.1.4-2ubuntu1.7~22.04.13) ...\n",
            "Selecting previously unselected package xvfb.\n",
            "Preparing to unpack .../10-xvfb_2%3a21.1.4-2ubuntu1.7~22.04.13_amd64.deb ...\n",
            "Unpacking xvfb (2:21.1.4-2ubuntu1.7~22.04.13) ...\n",
            "Setting up libfontenc1:amd64 (1:1.1.4-1build3) ...\n",
            "Setting up xfonts-encodings (1:1.0.5-0ubuntu2) ...\n",
            "Setting up libxkbfile1:amd64 (1:1.1.0-1build3) ...\n",
            "Setting up swig4.0 (4.0.2-1ubuntu1) ...\n",
            "Setting up libxfont2:amd64 (1:2.0.5-1build1) ...\n",
            "Setting up swig (4.0.2-1ubuntu1) ...\n",
            "Setting up x11-xkb-utils (7.7+5build4) ...\n",
            "Setting up xfonts-utils (1:7.7+6build2) ...\n",
            "Setting up xfonts-base (1:1.0.5) ...\n",
            "Setting up xserver-common (2:21.1.4-2ubuntu1.7~22.04.13) ...\n",
            "Setting up xvfb (2:21.1.4-2ubuntu1.7~22.04.13) ...\n",
            "Processing triggers for man-db (2.10.2-1) ...\n",
            "Processing triggers for fontconfig (2.13.1-4.2ubuntu5) ...\n",
            "Processing triggers for libc-bin (2.35-0ubuntu3.8) ...\n",
            "/sbin/ldconfig.real: /usr/local/lib/libtbbbind_2_5.so.3 is not a symbolic link\n",
            "\n",
            "/sbin/ldconfig.real: /usr/local/lib/libtcm.so.1 is not a symbolic link\n",
            "\n",
            "/sbin/ldconfig.real: /usr/local/lib/libtbbbind.so.3 is not a symbolic link\n",
            "\n",
            "/sbin/ldconfig.real: /usr/local/lib/libtbbbind_2_0.so.3 is not a symbolic link\n",
            "\n",
            "/sbin/ldconfig.real: /usr/local/lib/libur_adapter_opencl.so.0 is not a symbolic link\n",
            "\n",
            "/sbin/ldconfig.real: /usr/local/lib/libtbbmalloc.so.2 is not a symbolic link\n",
            "\n",
            "/sbin/ldconfig.real: /usr/local/lib/libtbbmalloc_proxy.so.2 is not a symbolic link\n",
            "\n",
            "/sbin/ldconfig.real: /usr/local/lib/libhwloc.so.15 is not a symbolic link\n",
            "\n",
            "/sbin/ldconfig.real: /usr/local/lib/libtbb.so.12 is not a symbolic link\n",
            "\n",
            "/sbin/ldconfig.real: /usr/local/lib/libur_loader.so.0 is not a symbolic link\n",
            "\n",
            "/sbin/ldconfig.real: /usr/local/lib/libumf.so.0 is not a symbolic link\n",
            "\n",
            "/sbin/ldconfig.real: /usr/local/lib/libur_adapter_level_zero.so.0 is not a symbolic link\n",
            "\n",
            "/sbin/ldconfig.real: /usr/local/lib/libtcm_debug.so.1 is not a symbolic link\n",
            "\n",
            "Collecting pyvirtualdisplay\n",
            "  Downloading PyVirtualDisplay-3.0-py3-none-any.whl.metadata (943 bytes)\n",
            "Downloading PyVirtualDisplay-3.0-py3-none-any.whl (15 kB)\n",
            "Installing collected packages: pyvirtualdisplay\n",
            "Successfully installed pyvirtualdisplay-3.0\n"
          ]
        }
      ]
    },
    {
      "cell_type": "code",
      "source": [
        "!pip install gymnasium gymnasium[box2d]"
      ],
      "metadata": {
        "id": "lAqf3jJGXfQB",
        "outputId": "a0f935e6-0aa5-408d-b65e-998bd0a81b30",
        "colab": {
          "base_uri": "https://localhost:8080/"
        }
      },
      "execution_count": 11,
      "outputs": [
        {
          "output_type": "stream",
          "name": "stdout",
          "text": [
            "Requirement already satisfied: gymnasium in /usr/local/lib/python3.11/dist-packages (1.1.0)\n",
            "Requirement already satisfied: numpy>=1.21.0 in /usr/local/lib/python3.11/dist-packages (from gymnasium) (1.26.4)\n",
            "Requirement already satisfied: cloudpickle>=1.2.0 in /usr/local/lib/python3.11/dist-packages (from gymnasium) (3.1.1)\n",
            "Requirement already satisfied: typing-extensions>=4.3.0 in /usr/local/lib/python3.11/dist-packages (from gymnasium) (4.12.2)\n",
            "Requirement already satisfied: farama-notifications>=0.0.1 in /usr/local/lib/python3.11/dist-packages (from gymnasium) (0.0.4)\n",
            "Collecting box2d-py==2.3.5 (from gymnasium[box2d])\n",
            "  Downloading box2d-py-2.3.5.tar.gz (374 kB)\n",
            "\u001b[2K     \u001b[90m━━━━━━━━━━━━━━━━━━━━━━━━━━━━━━━━━━━━━━━━\u001b[0m \u001b[32m374.4/374.4 kB\u001b[0m \u001b[31m5.4 MB/s\u001b[0m eta \u001b[36m0:00:00\u001b[0m\n",
            "\u001b[?25h  Preparing metadata (setup.py) ... \u001b[?25l\u001b[?25hdone\n",
            "Requirement already satisfied: pygame>=2.1.3 in /usr/local/lib/python3.11/dist-packages (from gymnasium[box2d]) (2.6.1)\n",
            "Collecting swig==4.* (from gymnasium[box2d])\n",
            "  Downloading swig-4.3.0-py2.py3-none-manylinux_2_5_x86_64.manylinux1_x86_64.whl.metadata (3.5 kB)\n",
            "Downloading swig-4.3.0-py2.py3-none-manylinux_2_5_x86_64.manylinux1_x86_64.whl (1.9 MB)\n",
            "\u001b[2K   \u001b[90m━━━━━━━━━━━━━━━━━━━━━━━━━━━━━━━━━━━━━━━━\u001b[0m \u001b[32m1.9/1.9 MB\u001b[0m \u001b[31m25.3 MB/s\u001b[0m eta \u001b[36m0:00:00\u001b[0m\n",
            "\u001b[?25hBuilding wheels for collected packages: box2d-py\n",
            "  Building wheel for box2d-py (setup.py) ... \u001b[?25l\u001b[?25hdone\n",
            "  Created wheel for box2d-py: filename=box2d_py-2.3.5-cp311-cp311-linux_x86_64.whl size=2351177 sha256=7961023731d0b8d62d44e62eb9611d2d89507d645be5aff214a19d77f64bbd21\n",
            "  Stored in directory: /root/.cache/pip/wheels/ab/f1/0c/d56f4a2bdd12bae0a0693ec33f2f0daadb5eb9753c78fa5308\n",
            "Successfully built box2d-py\n",
            "Installing collected packages: swig, box2d-py\n",
            "Successfully installed box2d-py-2.3.5 swig-4.3.0\n"
          ]
        }
      ]
    },
    {
      "cell_type": "code",
      "source": [
        "## Para visualizar en colab https://medium.com/@coldstart_coder/visually-rendering-python-gymnasium-in-jupyter-notebooks-4413e4087a0f\n",
        "## https://medium.com/@coldstart_coder/dqn-algorithm-training-an-ai-to-land-on-the-moon-1a1307748ed9\n",
        "# create a virtual display that will hold our video\n",
        "\n",
        "# Google Colab se ejecuta en un entorno de servidor sin una interfaz gráfica de\n",
        "# usuario (GUI). Para mostrar contenido visual como videos, se necesita una\n",
        "# pantalla virtual para simular una pantalla.\n",
        "# Esto permite que bibliotecas como gymnasium rendericen gráficos\n",
        "# y los capturen para incrustarlos en el notebook.\n",
        "#\n",
        "# Este código crea una pantalla virtual oculta donde se puede renderizar contenido gráfico.\n",
        "\n",
        "# pyvirtualdisplay es una biblioteca se usa para crear pantallas virtuales,\n",
        "# que son esenciales para renderizar contenido gráfico en entornos sin interfaz gráfica.\n",
        "from pyvirtualdisplay import Display\n",
        "\n",
        "# visible=0 indica que la pantalla estará oculta (no visible para el usuario).\n",
        "# Esto se debe a que Colab se ejecuta en un entorno de servidor sin una interfaz gráfica.\n",
        "# size=(1400, 900) establece la resolución de la pantalla virtual a 1400x900 píxeles.\n",
        "display = Display(visible=0, size=(1400, 900))\n",
        "\n",
        "# inicia la pantalla virtual, preparándola para su uso.\n",
        "display.start()\n",
        "\n",
        "\n",
        "# Las siguientes líneas importan las bibliotecas necesarias para trabajar\n",
        "# con entrada/salida, codificación base64 (usada para incrustar datos de video)\n",
        "# y mostrar contenido HTML dentro del notebook de Colab.\n",
        "import io\n",
        "import base64\n",
        "from IPython import display\n",
        "from IPython.display import HTML\n",
        "\n",
        "# Esta función mostrará un vídelo en la pantalla virtual, que será embembida en el notbook\n",
        "def embed_video(video_file):\n",
        "    # open and read the raw data from the video\n",
        "    video_data = io.open(video_file, 'r+b').read()\n",
        "    # now we have to encode the data into base64 to work\n",
        "    # with the virtual display\n",
        "    encoded_data = base64.b64encode(video_data)\n",
        "    # now we use the display.display function to take some html\n",
        "    # and the encoded data and embed the html into the notebook!\n",
        "    display.display(HTML(data='''<video alt=\"test\" autoplay\n",
        "                loop controls style=\"height: 400px;\">\n",
        "                <source src=\"data:video/mp4;base64,{0}\" type=\"video/mp4\" />\n",
        "                </video>'''.format(encoded_data.decode('ascii'))))"
      ],
      "metadata": {
        "id": "iPU9xXvoXhmw"
      },
      "execution_count": 12,
      "outputs": []
    },
    {
      "cell_type": "code",
      "source": [
        "import re # Para trabajar con expresiones regulares\n",
        "import os # Para manipular archivos, directorios, variables de entorno y ejecutar comandos del SO\n",
        "\n",
        "# Define la carpeta donde se guardarán los vídeos\n",
        "video_folder = \"videos\"  # Nombre de la carpeta (puedes cambiarlo)\n",
        "\n",
        "# Crea la carpeta si no existe\n",
        "os.makedirs(video_folder, exist_ok=True) # exist_ok=True evita error si ya existe\n",
        "\n",
        "# Retorna el nombre del último vídeo generado\n",
        "\n",
        "def get_latest_episode_video_file(directory):\n",
        "    # Expresión regular que coincide con el formato de los ficheros de video\n",
        "    pattern = re.compile(r\"rl-video-episode-(\\d+)\\.mp4\")\n",
        "    latest_file = None\n",
        "    highest_episode = -1\n",
        "\n",
        "    # Busca en el directorio\n",
        "    for filename in os.listdir(directory):\n",
        "        match = pattern.match(filename)\n",
        "        if match:\n",
        "            episode_number = int(match.group(1))  # Extrae el número de episodio\n",
        "            # Comprobamos, para conseguir el número de episodio más alto.\n",
        "            if episode_number > highest_episode:\n",
        "                highest_episode = episode_number\n",
        "                latest_file = os.path.join(directory, filename)  # Almacena el path completo\n",
        "\n",
        "    return latest_file"
      ],
      "metadata": {
        "id": "UsNxliF0Xj-N"
      },
      "execution_count": 13,
      "outputs": []
    },
    {
      "cell_type": "markdown",
      "source": [
        "## **1. SARSA semi-gradiente**\n",
        "\n",
        "Para SARSA semi-gradiente, se calculará una función aproximada de la función de evaluación de estado-acción, usando una aproximación lineal.  \n",
        "   Asumimos que\n",
        "   $$\n",
        "   \\widehat{q}(s, a, \\mathbf{w}) \\;=\\; \\mathbf{w}^\\top \\mathbf{x}(s, a),\n",
        "   $$\n",
        "   donde $\\mathbf{x}(s, a)$ es un **vector de características**.\n",
        "   \n",
        "Vamos a suponer que el vector de características viene dado por Tile Coding."
      ],
      "metadata": {
        "id": "SGY-ZpjST4bo"
      }
    },
    {
      "cell_type": "markdown",
      "metadata": {
        "id": "OVg1SvxOvgqO"
      },
      "source": [
        "### **Tile Coding**\n",
        "\n",
        "Tile Coding divide el espacio de estados  en regiones o \"tiles\" (azulejos).\n",
        "Cada división recibe el nombre mosaicos (rejillas o tiling).\n",
        "\n",
        "La idea principal es cubrir el espacio de estados con varias rejillas (tilings) que se superponen. Cada rejilla divide el espacio en celdas (tiles) y está ligeramente desplazada respecto a las otras. Esto permite que cada punto del espacio se asocie a varios tiles, uno por cada rejilla.\n",
        "\n"
      ]
    },
    {
      "cell_type": "code",
      "execution_count": 14,
      "metadata": {
        "colab": {
          "base_uri": "https://localhost:8080/",
          "height": 334
        },
        "id": "bN3oxgSktXpE",
        "outputId": "af9db2ae-1c2a-49e8-dc44-875f219058ab"
      },
      "outputs": [
        {
          "output_type": "display_data",
          "data": {
            "text/plain": [
              "<Figure size 400x300 with 1 Axes>"
            ],
            "image/png": "[encoded data removed]"
          },
          "metadata": {}
        }
      ],
      "source": [
        "#@title Por ejemplo, podemos generar 2 tilings sbore el espacio $[-1.2, 0.6]\\times [-0.07, 0.07]$ Cada color es un mosaico.\n",
        "\n",
        "import numpy as np\n",
        "import matplotlib.pyplot as plt\n",
        "\n",
        "# Parámetros del espacio\n",
        "x_min, x_max = -1.2, 0.6    # Rango para la posición\n",
        "y_min, y_max = -0.07, 0.07  # Rango para la velocidad\n",
        "\n",
        "# Número de celdas en cada dimensión y tilings\n",
        "num_cells = 5       # se dividen en 5 celdas (25 posibles regiones)\n",
        "num_tilings = 2     # cantidad de tilings\n",
        "\n",
        "# Tamaño de cada celda\n",
        "dx = (x_max - x_min) / num_cells\n",
        "dy = (y_max - y_min) / num_cells\n",
        "\n",
        "# Colores para cada tiling\n",
        "colors = ['red', 'green', 'blue', 'orange']\n",
        "\n",
        "# Crear la figura y el eje\n",
        "fig, ax = plt.subplots(figsize=(4, 3))\n",
        "ax.set_xlim(x_min, x_max)\n",
        "ax.set_ylim(y_min, y_max)\n",
        "ax.set_xlabel(\"Posición\")\n",
        "ax.set_ylabel(\"Velocidad\")\n",
        "ax.set_title(\"Superposición de 2 Tilings\")\n",
        "\n",
        "# Dibujar cada tiling con un offset progresivo\n",
        "for i in range(num_tilings):\n",
        "    # Calcular el offset para este tiling (una fracción del tamaño de celda)\n",
        "    offset_x = (i / num_tilings) * dx\n",
        "    offset_y = (i / num_tilings) * dy\n",
        "\n",
        "    # Calcular las posiciones de las líneas de la grilla para cada tiling.\n",
        "    # Se extiende ligeramente el rango para que se vean las líneas desplazadas.\n",
        "    x_lines = np.arange(x_min + offset_x/(i+1), x_max + dx, dx)\n",
        "    y_lines = np.arange(y_min + offset_y-offset_y/((2*i+1)), y_max + dy, dy)\n",
        "\n",
        "    # Dibujar líneas verticales\n",
        "    for xv in x_lines:\n",
        "        ax.axvline(x=xv, color=colors[i], linestyle='--', alpha=0.7, label=f'Tiling {i+1}' if xv==x_lines[0] else \"\")\n",
        "    # Dibujar líneas horizontales\n",
        "    for yv in y_lines:\n",
        "        ax.axhline(y=yv, color=colors[i], linestyle='--', alpha=0.7)\n",
        "\n",
        "# Mostrar leyenda (cada tiling se etiqueta una sola vez)\n",
        "ax.legend()\n",
        "\n",
        "plt.scatter(-0.6, 0.03, color='blue', s=100)  # s es el tamaño del punto\n",
        "plt.show()\n"
      ]
    },
    {
      "cell_type": "markdown",
      "metadata": {
        "id": "iTAb234nu3JA"
      },
      "source": [
        "\n",
        "Para un estado dado, representado con un punto, se determina en qué teselas cae en cada una de las rejillas. Esto permite definir un vector binario (o vector de características), $\\mathbf{x}(s, a)$, donde cada componente indica si un tile específico está activo (por ejemplo, con valor 1) o no (valor 0).\n",
        "La mayoría de componentes son 0 y unas pocas son 1, correspondientes a los tiles activos)."
      ]
    },
    {
      "cell_type": "markdown",
      "metadata": {
        "id": "ZOggOxgHvgqO"
      },
      "source": [
        "### **Creamos una Tile Coding para los estados de MountainCar**\n",
        "\n",
        "TileCodingEnv es un envoltorio para un entorno Gym que aplica la técnica de Tile Coding.\n",
        "\n",
        "Esta técnica discretiza observaciones continuas en múltiples rejillas (tilings) desplazadas, permitiendo representar el espacio de estados de forma que se faciliten la generalización y el aprendizaje.\n",
        "\n",
        "- Se ha implementado un Wrapper `TileCodingEnv` sobre el espacio de observaciones.\n",
        "- Vamos a generar varios tilings (mosaicos).\n",
        "\n",
        "Para lograr que el agente aprenda más rápido, se han modificado las recompensas:\n",
        "\n",
        "- Velocidad: Se agrega $50 \\cdot |velocidad|$, lo que incentiva al agente a moverse rápido en lugar de quedarse atrapado.\n",
        "- Progreso: Se suma $5 \\cdot (posición - posición\\_anterior)$, lo que premia si avanza hacia la cima y castiga si retrocede.\n",
        "- Objetivo final: Se mantiene $+100$ si alcanza la cima.\n",
        "- Pasos: Se mantiene la penalización de $-1$ por cada paso."
      ]
    },
    {
      "cell_type": "code",
      "source": [
        "#@title Cargamos el entorno\n",
        "env = gym.make(\"MountainCar-v0\", render_mode = \"rgb_array\")\n",
        "env.reset(seed=seed)\n",
        "env._max_episode_steps = 1000  # Cambiar el límite de pasos\n",
        "\n",
        "# Aplica el wrapper para modificar las recompensas\n",
        "env = MountainCarCustomRewards(env, negative_reward=-1, goal_reward=100, velocity_factor=50, progress_factor=5)"
      ],
      "metadata": {
        "id": "rjLpfG7rZpFZ"
      },
      "execution_count": 15,
      "outputs": []
    },
    {
      "cell_type": "code",
      "execution_count": 16,
      "metadata": {
        "id": "zo286x38vgqO"
      },
      "outputs": [],
      "source": [
        "#@title Generamos  mosaicos (tilings) con varios intervalos por dimensión. Al nuevo espacio lo llamaremos *tcenv*\n",
        "tilings = 10  # Número de mosaicos\n",
        "bins = np.array([20, 20])  # Número de intervalos en cada dimensión. 20 en cada una\n",
        "low = env.observation_space.low\n",
        "high = env.observation_space.high\n",
        "tcenv = TileCodingEnv(env, bins=bins, low=low, high=high, n=tilings)"
      ]
    },
    {
      "cell_type": "code",
      "execution_count": 17,
      "metadata": {
        "colab": {
          "base_uri": "https://localhost:8080/"
        },
        "id": "0Bs_FL8jvgqO",
        "outputId": "8103d517-12a3-4bde-a24b-0d874c8d1158"
      },
      "outputs": [
        {
          "output_type": "stream",
          "name": "stdout",
          "text": [
            "El espacio de observaciones original es: Box([-1.2  -0.07], [0.6  0.07], (2,), float32), \n",
            "Un estado para este espacio original es: (array([-4.6527219e-01, -4.3845834e-04], dtype=float32), -0.9780770827783272, False, False, {})\n",
            "\n",
            "El espacio de estados modificado es: MultiDiscrete([20 20 20 20 20 20 20 20 20 20 20 20 20 20 20 20 20 20 20 20]). Mosaicos: 10 \n",
            "Un estado para este nuevo espacio es: [(8, 10), (8, 9), (8, 9), (8, 9), (7, 9), (7, 9), (7, 9), (7, 9), (7, 9), (7, 9)] \n",
            "Cada pareja es la 'celda' correspondiente a cada mosaico\n",
            "Las caracterísiticas observadas han sido [170, 569, 969, 1369, 1749, 2149, 2549, 2949, 3349, 3749] sobre 4000 parámetros\n"
          ]
        }
      ],
      "source": [
        "#@title Comparamos el entorno original con el entorno con estados agregados\n",
        "\n",
        "print(f\"El espacio de observaciones original es: {env.observation_space}, \\n\\\n",
        "Un estado para este espacio original es: {env.step(env.action_space.sample())}\")\n",
        "print(f\"\\nEl espacio de estados modificado es: {tcenv.observation_space}. Mosaicos: {tcenv.n_tilings} \\n\\\n",
        "Un estado para este nuevo espacio es: {tcenv.step(tcenv.action_space.sample())[0]} \\n\\\n",
        "Cada pareja es la 'celda' correspondiente a cada mosaico\")\n",
        "print(f\"Las caracterísiticas observadas han sido {tcenv.last_active_features} sobre {np.prod(tcenv.bins)*tcenv.n_tilings} parámetros\")"
      ]
    },
    {
      "cell_type": "markdown",
      "metadata": {
        "id": "yBp9Au_ZxiLB"
      },
      "source": [
        "### **Cómo usar el código para obtener una aproximación de Q(s,a)**\n",
        "\n",
        "\n",
        "Queremos calcular $\\widehat{q}(s, a, \\mathbf{w}) = \\displaystyle\\mathbf{w}^\\top \\mathbf{x}(s, a) = \\sum_{i=1}^d w_i \\cdot x_i(s, a)$\n",
        "\n",
        "\n",
        "Para cada acción, la  función tendrá tantos pesos como el número total de tiles (celdas) generadas en todos los tilings. Por tanto, los pesos $\\mathbf{w}$  se definen como una matriz de dimensiones $total\\_features \\times n\\_actions$.\n",
        "\n",
        "```\n",
        "# Número de acciones en el entorno original\n",
        "num_actions = tcenv.env.action_space.n  \n",
        "\n",
        "# Número total de características en el aproximador lineal:\n",
        "total_features = tcenv.n_tilings * np.prod(tcenv.bins)\n",
        "\n",
        "# Inicializamos los pesos (por ejemplo, en cero)\n",
        "w = np.zeros((total_features, num_actions))\n",
        "```\n",
        "\n",
        "Cada fila de `w` corresponde a una feature (un tile específico de un tiling) y cada columna a una acción.\n",
        "\n",
        "Como las características son binarias, la evaluación de $\\widehat{q}$ se reduce a sumar los pesos que se corresponde a las características activas:\n",
        "$$\n",
        "\\widehat{q}(s, a, \\mathbf{w}) = \\sum_{i \\in \\text{features_activas}(s)} w_{i,a}.\n",
        "$$\n",
        "\n",
        "\n",
        "\n",
        " Así, cuando estés en un estado $s$, el método `tcenv.observation(s)` (y, por extensión, `tcenv.last_active_features`) te proporcionará los índices de los tiles activos en ese estado. Por ejemplo, si `tcenv.last_active_features` retorna `[35, 142, 18, 600]` y seleccionas la acción $a$, entonces\n",
        "\n",
        "```python\n",
        "q_sa = w[35, a] + w[142, a] + w[18, a] + w[600, a]\n",
        "```\n",
        "\n",
        "Eso es lo que define y cómo se utiliza la matriz de pesos $\\mathbf{w}$ según el código y la aproximación lineal con Tile Coding."
      ]
    },
    {
      "cell_type": "markdown",
      "metadata": {
        "id": "K6WMW6LlNEcX"
      },
      "source": [
        "## ¿Como usarlo para SARSA o Q-Learning?"
      ]
    },
    {
      "cell_type": "markdown",
      "metadata": {
        "id": "gp5XhRR9s5zc"
      },
      "source": [
        "\n",
        "Recordemos la teoría. Supongamos que se quiere aplicar semigradiente-SARSA\n",
        "\n",
        "1. **Regla de actualización general (semigradiente SARSA)**  \n",
        "   Se usa la siguiente ecuación de actualización para los pesos $\\mathbf{w}$:\n",
        "\n",
        "   $$\n",
        "   \\mathbf{w} \\;\\leftarrow\\;\n",
        "   \\mathbf{w}\n",
        "   \\;+\\; \\alpha \\Bigl[\n",
        "     R + \\gamma \\,\\widehat{q}(S', A', \\mathbf{w})\n",
        "     \\;-\\; \\widehat{q}(S, A, \\mathbf{w})\n",
        "   \\Bigr]\n",
        "   \\,\\nabla_{\\mathbf{w}} \\widehat{q}(S, A, \\mathbf{w})\n",
        "   $$\n",
        "   \n",
        "   Siendo $\\alpha$ la tasa de aprendizaje, $\\gamma$ el factor de descuento, y $R$ la recompensa obtenida en la transición $(S, A) \\to (S', A')$.\n",
        "\n",
        "\n",
        "2. **La función aproximada**  que estamos asumiendo es\n",
        "   $\n",
        "   \\widehat{q}(s, a, \\mathbf{w}) \\;=\\; \\mathbf{w}^\\top \\mathbf{x}(s, a),\n",
        "   $\n",
        "   donde $\\mathbf{x}(s, a)$ es un **vector de características**. Ya sabemos cómo calcular este valor.\n",
        "\n",
        "3. **Gradiente de $\\widehat{q}$**  \n",
        "   Se necesita calcular $\\nabla_{\\mathbf{w}} \\widehat{q}(S, A, \\mathbf{w})$, pero  dado que $\\widehat{q}$ es lineal, la derivada con respecto a $\\mathbf{w}$ es simplemente:\n",
        "   $$\n",
        "   \\nabla_{\\mathbf{w}} \\widehat{q}(s, a, \\mathbf{w})\n",
        "   \\;=\\;\n",
        "   \\mathbf{x}(s, a).\n",
        "   $$\n",
        "   - En Tile Coding, $\\mathbf{x}(s,a)$ será  un vector con 1s en los índices de los tiles activos y 0s en el resto.\n",
        "\n",
        "3. **Regla de actualización específica (semigradiente SARSA)**\n",
        "\n",
        "   Al reemplazar $\\nabla_{\\mathbf{w}} \\widehat{q}(S, A, \\mathbf{w})$ por $\\mathbf{x}(S, A)$, se obtiene:\n",
        "\n",
        "   $$\n",
        "   \\mathbf{w}\n",
        "   \\;\\leftarrow\\;\n",
        "   \\mathbf{w}\n",
        "   \\;+\\;\n",
        "   \\alpha \\,\\Bigl[\n",
        "     R + \\gamma \\,\\widehat{q}(S', A', \\mathbf{w}) - \\widehat{q}(S, A, \\mathbf{w})\n",
        "   \\Bigr]\n",
        "   \\,\\mathbf{x}(S, A).\n",
        "   $$\n",
        "\n",
        "   A menudo se define el **TD-error** $\\delta$ como:\n",
        "   $$\n",
        "   \\delta\n",
        "   \\;=\\;\n",
        "   R + \\gamma \\,\\widehat{q}(S', A', \\mathbf{w})\n",
        "       - \\widehat{q}(S, A, \\mathbf{w}).\n",
        "   $$\n",
        "   Entonces, la actualización es:\n",
        "   $$\n",
        "   \\mathbf{w}\n",
        "   \\;\\leftarrow\\;\n",
        "   \\mathbf{w}\n",
        "   \\;+\\; \\alpha \\,\\delta \\,\\mathbf{x}(S, A).\n",
        "   $$\n",
        "\n",
        "  Particularizando a Tile Coding:  \n",
        "   - $\\mathbf{x}(S,A)$ es un vector de dimensión $d$ (el total de “features” o tiles posibles).  \n",
        "   - En Tile Coding, solo los tiles **activos** tienen valor 1; el resto son 0.  \n",
        "   - Esto significa que, para cada transición, **solo se actualizan los pesos correspondientes a los tiles activos**.  \n",
        "\n",
        "  En la práctica, si $\\mathbf{x}(S, A)$ tuviera posiciones $\\{i_1, i_2, \\dots, i_k\\}$ activas (con valor 1), la actualización es:\n",
        "   $$\n",
        "   w_{i_j}\n",
        "   \\;\\leftarrow\\;\n",
        "   w_{i_j}\n",
        "   \\;+\\; \\alpha \\,\\delta\n",
        "   \\quad\\text{para cada } j=1,\\dots,k.\n",
        "   $$"
      ]
    },
    {
      "cell_type": "code",
      "source": [
        "# @title Aprendizaje\n",
        "agent = AgentSemiGradientSARSA(tcenv, epsilon=1, decay=True, discount_factor=0.99, alpha = 0.1)\n",
        "agent.reset()\n",
        "agent.train(num_episodes=10000)\n",
        "\n",
        "# Estadísticos\n",
        "list_stats, episode_lengths = agent.get_stats()"
      ],
      "metadata": {
        "id": "CemKUW8aK3yW",
        "outputId": "cddeaebb-a6f4-45ec-8cbc-a02a48a792fe",
        "colab": {
          "base_uri": "https://localhost:8080/"
        }
      },
      "execution_count": 18,
      "outputs": [
        {
          "output_type": "stream",
          "name": "stderr",
          "text": [
            " 10%|█         | 1001/10000 [05:51<57:07,  2.63it/s]"
          ]
        },
        {
          "output_type": "stream",
          "name": "stdout",
          "text": [
            "Episode 1001/10000, total reward: -755.8280394940994\n"
          ]
        },
        {
          "output_type": "stream",
          "name": "stderr",
          "text": [
            " 20%|██        | 2001/10000 [11:21<55:27,  2.40it/s]"
          ]
        },
        {
          "output_type": "stream",
          "name": "stdout",
          "text": [
            "Episode 2001/10000, total reward: 305.0877684818988\n"
          ]
        },
        {
          "output_type": "stream",
          "name": "stderr",
          "text": [
            " 30%|███       | 3003/10000 [15:28<14:45,  7.90it/s]"
          ]
        },
        {
          "output_type": "stream",
          "name": "stdout",
          "text": [
            "Episode 3001/10000, total reward: 391.955263376527\n"
          ]
        },
        {
          "output_type": "stream",
          "name": "stderr",
          "text": [
            " 40%|████      | 4002/10000 [17:13<07:44, 12.91it/s]"
          ]
        },
        {
          "output_type": "stream",
          "name": "stdout",
          "text": [
            "Episode 4001/10000, total reward: 135.5271545865835\n"
          ]
        },
        {
          "output_type": "stream",
          "name": "stderr",
          "text": [
            " 50%|█████     | 5001/10000 [18:39<06:43, 12.40it/s]"
          ]
        },
        {
          "output_type": "stream",
          "name": "stdout",
          "text": [
            "Episode 5001/10000, total reward: 87.33945353054878\n"
          ]
        },
        {
          "output_type": "stream",
          "name": "stderr",
          "text": [
            " 60%|██████    | 6002/10000 [19:55<04:10, 15.97it/s]"
          ]
        },
        {
          "output_type": "stream",
          "name": "stdout",
          "text": [
            "Episode 6001/10000, total reward: 106.2925391754543\n"
          ]
        },
        {
          "output_type": "stream",
          "name": "stderr",
          "text": [
            " 70%|███████   | 7002/10000 [21:04<03:59, 12.53it/s]"
          ]
        },
        {
          "output_type": "stream",
          "name": "stdout",
          "text": [
            "Episode 7001/10000, total reward: 113.3374380417954\n"
          ]
        },
        {
          "output_type": "stream",
          "name": "stderr",
          "text": [
            " 80%|████████  | 8004/10000 [22:10<01:46, 18.81it/s]"
          ]
        },
        {
          "output_type": "stream",
          "name": "stdout",
          "text": [
            "Episode 8001/10000, total reward: 137.17458671110217\n"
          ]
        },
        {
          "output_type": "stream",
          "name": "stderr",
          "text": [
            " 90%|█████████ | 9002/10000 [23:10<01:22, 12.10it/s]"
          ]
        },
        {
          "output_type": "stream",
          "name": "stdout",
          "text": [
            "Episode 9001/10000, total reward: 148.5900950335781\n"
          ]
        },
        {
          "output_type": "stream",
          "name": "stderr",
          "text": [
            "100%|██████████| 10000/10000 [24:09<00:00,  6.90it/s]"
          ]
        },
        {
          "output_type": "stream",
          "name": "stdout",
          "text": [
            "Average return over 10000 episodes: 71.47338742393379\n"
          ]
        },
        {
          "output_type": "stream",
          "name": "stderr",
          "text": [
            "\n"
          ]
        }
      ]
    },
    {
      "cell_type": "code",
      "source": [
        "#@title Proporción de aciertos por número de episodios\n",
        "\n",
        "plot(list_stats)\n",
        "print(f\"Máxima proporción: {list_stats[-1]}\")"
      ],
      "metadata": {
        "id": "V1RHjIz1UgUi",
        "outputId": "87401e72-38b6-46d7-d426-dcc924bfcf0d",
        "colab": {
          "base_uri": "https://localhost:8080/",
          "height": 736
        }
      },
      "execution_count": 19,
      "outputs": [
        {
          "output_type": "display_data",
          "data": {
            "text/plain": [
              "<Figure size 1500x800 with 1 Axes>"
            ],
            "image/png": "[encoded data removed]"
          },
          "metadata": {}
        },
        {
          "output_type": "stream",
          "name": "stdout",
          "text": [
            "Máxima proporción: 71.47338742393363\n"
          ]
        }
      ]
    },
    {
      "cell_type": "code",
      "source": [
        "#@title Longitud de los episodios\n",
        "\n",
        "plot_episode_lengths(episode_lengths)"
      ],
      "metadata": {
        "id": "un-sVSvhXCEF",
        "outputId": "36ec98ca-9f5a-4f5e-8023-3db29a843ee8",
        "colab": {
          "base_uri": "https://localhost:8080/",
          "height": 718
        }
      },
      "execution_count": 20,
      "outputs": [
        {
          "output_type": "display_data",
          "data": {
            "text/plain": [
              "<Figure size 1500x800 with 1 Axes>"
            ],
            "image/png": "[encoded data removed]"
          },
          "metadata": {}
        }
      ]
    },
    {
      "cell_type": "code",
      "source": [
        "#@title Histograma con la longitud de los episodios\n",
        "\n",
        "plot_episode_lengths_histogram(episode_lengths)"
      ],
      "metadata": {
        "id": "6Z9ZaP3RXEYF",
        "outputId": "47c3a664-005a-4b74-8cd3-bd7734a5c87c",
        "colab": {
          "base_uri": "https://localhost:8080/",
          "height": 719
        }
      },
      "execution_count": 21,
      "outputs": [
        {
          "output_type": "display_data",
          "data": {
            "text/plain": [
              "<Figure size 1500x800 with 1 Axes>"
            ],
            "image/png": "[encoded data removed]"
          },
          "metadata": {}
        }
      ]
    },
    {
      "cell_type": "code",
      "source": [
        "# @title Simulaciones en vídeo\n",
        "import gymnasium as gym\n",
        "from gymnasium.wrappers import RecordEpisodeStatistics, RecordVideo\n",
        "\n",
        "# Solo grabamos 10 episodios, por ejemplo\n",
        "trigger = lambda episode_id: episode_id < 10  # Graba solo los primeros 10 episodios\n",
        "\n",
        "# Aplica el wrapper RecordVideo para grabar vídeos\n",
        "env = gym.wrappers.RecordVideo(\n",
        "    tcenv,\n",
        "    video_folder=video_folder,\n",
        "    episode_trigger=trigger,  # Graba solo los primeros 10 episodios\n",
        ")\n",
        "\n",
        "num_episodes = 2 # Número de episodios a grabar\n",
        "#observation, info = env.reset(seed=42)\n",
        "for episode in range(num_episodes):\n",
        "    observation, info = env.reset(seed=seed)\n",
        "    episode_over = False\n",
        "    while not episode_over:\n",
        "\n",
        "        active_features = tcenv.last_active_features\n",
        "\n",
        "        # Renderiza el frame actual, esto lo guardará en el archivo de video.\n",
        "        env.render()\n",
        "\n",
        "        # El agente elige la acción usando la política entrenada\n",
        "        action = agent.get_action(active_features)\n",
        "\n",
        "        # Ejecuta un paso en el entorno con la acción seleccionada.\n",
        "        # Obtiene la siguiente observación, la recompensa,\n",
        "        # y si el episodio ha terminado (terminated) o ha sido truncado (truncated).\n",
        "        observation, reward, terminated, truncated, info = env.step(action)\n",
        "\n",
        "        # Verifica si el episodio ha terminado, ya sea por terminación o truncamiento.\n",
        "        episode_over = terminated or truncated\n",
        "\n",
        "\n",
        "env.close() # Importante cerrar el entorno, ¡esto finaliza la grabación de vídeo!\n",
        "print(f\"Grabación de episodios completada. Vídeos guardados en la carpeta '{video_folder}'\")"
      ],
      "metadata": {
        "id": "wXZ6rTguXNb-",
        "outputId": "6ea4f234-8386-4a60-f7fc-3568b2c5fa7c",
        "colab": {
          "base_uri": "https://localhost:8080/"
        }
      },
      "execution_count": 22,
      "outputs": [
        {
          "output_type": "stream",
          "name": "stderr",
          "text": [
            "/usr/local/lib/python3.11/dist-packages/gymnasium/wrappers/rendering.py:283: UserWarning: \u001b[33mWARN: Overwriting existing videos at /content/videos folder (try specifying a different `video_folder` for the `RecordVideo` wrapper if this is not desired)\u001b[0m\n",
            "  logger.warn(\n",
            "/usr/local/lib/python3.11/dist-packages/moviepy/config_defaults.py:1: DeprecationWarning: invalid escape sequence '\\P'\n",
            "  \"\"\"\n"
          ]
        },
        {
          "output_type": "stream",
          "name": "stdout",
          "text": [
            "Grabación de episodios completada. Vídeos guardados en la carpeta 'videos'\n"
          ]
        }
      ]
    },
    {
      "cell_type": "code",
      "source": [
        "latest_file = get_latest_episode_video_file(video_folder)\n",
        "print(f\"Último vídeo: {latest_file}\") # outputs: ./video/rl-video-episode-4.mp4\n",
        "embed_video(latest_file)"
      ],
      "metadata": {
        "id": "1XuNpdWuqe_C",
        "outputId": "3c543728-54f2-4145-fa70-ca72ffd70548",
        "colab": {
          "base_uri": "https://localhost:8080/",
          "height": 439
        }
      },
      "execution_count": 23,
      "outputs": [
        {
          "output_type": "stream",
          "name": "stdout",
          "text": [
            "Último vídeo: videos/rl-video-episode-1.mp4\n"
          ]
        },
        {
          "output_type": "display_data",
          "data": {
            "text/plain": [
              "<IPython.core.display.HTML object>"
            ],
            "text/html": [
              "<video alt=\"test\" autoplay\n",
              "                loop controls style=\"height: 400px;\">\n",
              "                <source src=\"data:video/mp4;base64,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\" type=\"video/mp4\" />\n",
              "                </video>"
            ]
          },
          "metadata": {}
        }
      ]
    },
    {
      "cell_type": "markdown",
      "source": [
        "## **2. Deep Q-Learning**\n",
        "\n",
        "**Deep Q-Learning (DQN)** es una extensión de Q-Learning clásico que utiliza redes neuronales profundas para aproximar $q(s, a)$ con una red neuronal que:\n",
        "\n",
        "- **Toma un estado s como entrada**:\n",
        "  - Un vector (en entornos simples), una imagen (en videojuegos o tareas visuales).\n",
        "  \n",
        "- **La salida produce un vector de valores q(s, a) para todas las acciones posibles a**.\n",
        "\n",
        "La función de aproximación $\\hat{q}(s, a; w)$ es una red neuronal donde $w$ son los parámetros de la red.\n",
        "\n",
        "**Características de DQN**:\n",
        " - La red se entrena para minimizar el error cuadrático medio (MSE) entre la salida actual y el objetivo:\n",
        "$$L(w) = \\mathbb{E}_{(s, a, r, s′)}[(y − \\hat{q}(s, a; w))^2]$$\n",
        "  donde:\n",
        "  - $\\hat{q}(s, a; w)$ es la estimación actual.\n",
        "  - El target es una copia congelada de la red principal.\n",
        "    - $y = r + \\gamma \\max_{a′} \\hat{q}(s′, a′; w_{target})$.\n",
        "    - $w_{target}$ son los parámetros de una red separada (target network).\n",
        "  \n",
        "- Aplica **Replay Buffer** (muestreo).\n"
      ],
      "metadata": {
        "id": "Y6RolZeWusHO"
      }
    },
    {
      "cell_type": "code",
      "source": [
        "# @title Aprendizaje\n",
        "agent = AgentDeepQLearning(tcenv, epsilon=1, decay=True, discount_factor=0.99, alpha = 0.1, memory_capacity = 10000, batch_size = 32, learning_rate = 0.0005)\n",
        "agent.reset()\n",
        "agent.train(num_episodes=10000)\n",
        "\n",
        "# Estadísticos\n",
        "list_stats, episode_lengths = agent.get_stats()"
      ],
      "metadata": {
        "id": "M9ZPJ2UCwkn-"
      },
      "execution_count": null,
      "outputs": []
    },
    {
      "cell_type": "code",
      "source": [
        "#@title Proporción de aciertos por número de episodios\n",
        "\n",
        "plot(list_stats)\n",
        "print(f\"Máxima proporción: {list_stats[-1]}\")"
      ],
      "metadata": {
        "id": "ENLCh3vZxiEb"
      },
      "execution_count": null,
      "outputs": []
    },
    {
      "cell_type": "code",
      "source": [
        "#@title Longitud de los episodios\n",
        "\n",
        "plot_episode_lengths(episode_lengths)"
      ],
      "metadata": {
        "id": "__FitdG2xlye"
      },
      "execution_count": null,
      "outputs": []
    },
    {
      "cell_type": "code",
      "source": [
        "#@title Histograma con la longitud de los episodios\n",
        "\n",
        "plot_episode_lengths_histogram(episode_lengths)"
      ],
      "metadata": {
        "id": "takxbFbvyDKp"
      },
      "execution_count": null,
      "outputs": []
    },
    {
      "cell_type": "code",
      "source": [
        "# @title Simulaciones en vídeo\n",
        "import gymnasium as gym\n",
        "from gymnasium.wrappers import RecordEpisodeStatistics, RecordVideo\n",
        "\n",
        "# Solo grabamos 10 episodios, por ejemplo\n",
        "trigger = lambda episode_id: episode_id < 10  # Graba solo los primeros 10 episodios\n",
        "\n",
        "# Aplica el wrapper RecordVideo para grabar vídeos\n",
        "env = gym.wrappers.RecordVideo(\n",
        "    tcenv,\n",
        "    video_folder=video_folder,\n",
        "    episode_trigger=trigger,  # Graba solo los primeros 10 episodios\n",
        ")\n",
        "\n",
        "num_episodes = 2 # Número de episodios a grabar\n",
        "#observation, info = env.reset(seed=42)\n",
        "for episode in range(num_episodes):\n",
        "    observation, info = env.reset(seed=seed)\n",
        "    episode_over = False\n",
        "    while not episode_over:\n",
        "\n",
        "        # Renderiza el frame actual, esto lo guardará en el archivo de video.\n",
        "        env.render()\n",
        "\n",
        "        # El agente elige la acción usando la política entrenada\n",
        "        action = agent.get_action(observation)\n",
        "\n",
        "        # Ejecuta un paso en el entorno con la acción seleccionada.\n",
        "        # Obtiene la siguiente observación, la recompensa,\n",
        "        # y si el episodio ha terminado (terminated) o ha sido truncado (truncated).\n",
        "        observation, reward, terminated, truncated, info = env.step(action)\n",
        "\n",
        "        # Verifica si el episodio ha terminado, ya sea por terminación o truncamiento.\n",
        "        episode_over = terminated or truncated\n",
        "\n",
        "\n",
        "env.close() # Importante cerrar el entorno, ¡esto finaliza la grabación de vídeo!\n",
        "print(f\"Grabación de episodios completada. Vídeos guardados en la carpeta '{video_folder}'\")"
      ],
      "metadata": {
        "id": "beQq0Qd5yGzk"
      },
      "execution_count": null,
      "outputs": []
    },
    {
      "cell_type": "code",
      "source": [
        "latest_file = get_latest_episode_video_file(video_folder)\n",
        "print(f\"Último vídeo: {latest_file}\") # outputs: ./video/rl-video-episode-4.mp4\n",
        "embed_video(latest_file)"
      ],
      "metadata": {
        "id": "s7UorLIGzXXQ"
      },
      "execution_count": null,
      "outputs": []
    }
  ],
  "metadata": {
    "colab": {
      "provenance": [],
      "include_colab_link": true
    },
    "kernelspec": {
      "display_name": "Python 3",
      "language": "python",
      "name": "python3"
    },
    "language_info": {
      "codemirror_mode": {
        "name": "ipython",
        "version": 3
      },
      "file_extension": ".py",
      "mimetype": "text/x-python",
      "name": "python",
      "nbconvert_exporter": "python",
      "pygments_lexer": "ipython3",
      "version": "3.8.5"
    }
  },
  "nbformat": 4,
  "nbformat_minor": 0
}