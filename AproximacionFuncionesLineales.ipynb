{
  "cells": [
    {
      "cell_type": "markdown",
      "metadata": {
        "id": "view-in-github",
        "colab_type": "text"
      },
      "source": [
        "<a href=\"https://colab.research.google.com/github/JMGO-coding/RL_GGM/blob/main/AproximacionFuncionesLineales.ipynb\" target=\"_parent\"><img src=\"https://colab.research.google.com/assets/colab-badge.svg\" alt=\"Open In Colab\"/></a>"
      ]
    },
    {
      "cell_type": "markdown",
      "metadata": {
        "id": "9vN8l4-UvgqJ",
        "pycharm": {
          "name": "#%%\n"
        }
      },
      "source": [
        "# **Aproximación de Funciones**\n",
        "\n",
        "En este notebook se estudian algoritmos de Control con Aproximaciones, como SARSA semi-gradiente y Deep Q-Learning. Se probarán dichos algoritmos en el entorno Mountain Car de Gymnasium.\n"
      ]
    },
    {
      "cell_type": "markdown",
      "metadata": {
        "id": "AYUqQBl1vgqM"
      },
      "source": [
        "## **Preparamos el entorno MountainCar que se usará en el notebook**\n"
      ]
    },
    {
      "cell_type": "code",
      "execution_count": 1,
      "metadata": {
        "id": "ITOgJ74WvgqL"
      },
      "outputs": [],
      "source": [
        "#@title Importamos las librerias necesarias\n",
        "import random\n",
        "import gymnasium as gym\n",
        "from gymnasium import ObservationWrapper\n",
        "from tqdm import tqdm"
      ]
    },
    {
      "cell_type": "code",
      "source": [
        "#@title Fijamos semilla\n",
        "\n",
        "import os\n",
        "import gc\n",
        "import torch\n",
        "import numpy as np\n",
        "import gymnasium as gym\n",
        "\n",
        "# Configuración del dispositivo (CPU o GPU)\n",
        "device = torch.device(\"cuda\" if torch.cuda.is_available() else \"cpu\")\n",
        "print(f\"Usando dispositivo: {device}\")\n",
        "\n",
        "# Liberación de memoria para evitar problemas de consumo en GPU\n",
        "gc.collect() # Ejecuta el recolector de basura de Python\n",
        "torch.cuda.empty_cache() # Vacía la caché de memoria en GPU\n",
        "\n",
        "# Depuración de errores en CUDA\n",
        "os.environ['CUDA_LAUNCH_BLOCKING'] = '1' # Muestra errores de CUDA en el punto exacto donde ocurren\n",
        "\n",
        "# Configuración de la semilla para reproducibilidad\n",
        "seed = 2024 # Se define una semilla fija\n",
        "\n",
        "# Fijar la semilla en NumPy\n",
        "np.random.seed(seed) # Para generar números aleatorios consistentes en NumPy\n",
        "np.random.default_rng(seed) # Establece una instancia del generador de NumPy con la misma semilla\n",
        "\n",
        "# Fijar la semilla en Python\n",
        "os.environ['PYTHONHASHSEED'] = str(seed) # Evita variabilidad en hashing de Python\n",
        "\n",
        "# Fijar la semilla en PyTorch\n",
        "torch.manual_seed(seed) # Asegura resultados reproducibles en operaciones de PyTorch\n",
        "\n",
        "if torch.cuda.is_available(): # Si hay GPU disponible\n",
        "    torch.cuda.manual_seed(seed) # Fija la semilla para la GPU\n",
        "    torch.backends.cudnn.deterministic = True # Hace las operaciones de CUDNN determinísticas\n",
        "    torch.backends.cudnn.benchmark = False # Desactiva optimizaciones de CUDNN para evitar variabilidad\n",
        "\n",
        "# Fijar la semilla en Gymnasium\n",
        "def make_env(env_name):\n",
        "    env = gym.make(env_name)\n",
        "    env.reset(seed=seed) # Establece la semilla en el entorno de Gymnasium\n",
        "    return env\n",
        "\n",
        "# Ejemplo de creación de un entorno con semilla\n",
        "env_name = \"MountainCar-v0\" # Cambiar según el entorno deseado\n",
        "env = make_env(env_name)"
      ],
      "metadata": {
        "id": "QB0Yb61R_Axz",
        "outputId": "c38158c7-7ba8-4c15-f71d-3db080662dc3",
        "colab": {
          "base_uri": "https://localhost:8080/"
        }
      },
      "execution_count": 2,
      "outputs": [
        {
          "output_type": "stream",
          "name": "stdout",
          "text": [
            "Usando dispositivo: cpu\n"
          ]
        }
      ]
    },
    {
      "cell_type": "code",
      "source": [
        "#@title Copiar el repositorio ``JMGO-coding/RL_GGM``.\n",
        "\n",
        "!git clone https://github.com/JMGO-coding/RL_GGM.git\n",
        "!cd RL_GGM/"
      ],
      "metadata": {
        "id": "vPYsjvH0MLaP",
        "outputId": "94fb0509-d060-4209-d582-cda93d7c701a",
        "colab": {
          "base_uri": "https://localhost:8080/"
        }
      },
      "execution_count": 3,
      "outputs": [
        {
          "output_type": "stream",
          "name": "stdout",
          "text": [
            "Cloning into 'RL_GGM'...\n",
            "remote: Enumerating objects: 704, done.\u001b[K\n",
            "remote: Counting objects: 100% (66/66), done.\u001b[K\n",
            "remote: Compressing objects: 100% (31/31), done.\u001b[K\n",
            "remote: Total 704 (delta 58), reused 35 (delta 35), pack-reused 638 (from 1)\u001b[K\n",
            "Receiving objects: 100% (704/704), 2.59 MiB | 6.85 MiB/s, done.\n",
            "Resolving deltas: 100% (400/400), done.\n"
          ]
        }
      ]
    },
    {
      "cell_type": "code",
      "source": [
        "#@title Importamos todas las clases y funciones\n",
        "\n",
        "import sys\n",
        "\n",
        "# Añadir los directorio fuentes al path de Python\n",
        "sys.path.append('/content/RL_GGM')\n",
        "sys.path.append('/content/RL_GGM/src')\n",
        "\n",
        "# Verificar que se han añadido correctamente\n",
        "print(sys.path)\n",
        "\n",
        "from agents import AgentSemiGradientSARSA, AgentDeepQLearning\n",
        "from wrappers import TileCodingEnv, MountainCarCustomRewards"
      ],
      "metadata": {
        "id": "0fp9Ldk2CN5b",
        "outputId": "520c5a8f-0364-4ccf-ea4c-ff13bb452aeb",
        "colab": {
          "base_uri": "https://localhost:8080/"
        }
      },
      "execution_count": 4,
      "outputs": [
        {
          "output_type": "stream",
          "name": "stdout",
          "text": [
            "['/content', '/env/python', '/usr/lib/python311.zip', '/usr/lib/python3.11', '/usr/lib/python3.11/lib-dynload', '', '/usr/local/lib/python3.11/dist-packages', '/usr/lib/python3/dist-packages', '/usr/local/lib/python3.11/dist-packages/IPython/extensions', '/root/.ipython', '/content/RL_GGM', '/content/RL_GGM/src']\n"
          ]
        }
      ]
    },
    {
      "cell_type": "code",
      "execution_count": 5,
      "metadata": {
        "colab": {
          "base_uri": "https://localhost:8080/"
        },
        "id": "Zpo8BQEAvgqM",
        "outputId": "f290f01b-63af-49e5-ccfb-bfad38a386fb"
      },
      "outputs": [
        {
          "output_type": "execute_result",
          "data": {
            "text/plain": [
              "(array([-0.46483374,  0.        ], dtype=float32), {})"
            ]
          },
          "metadata": {},
          "execution_count": 5
        }
      ],
      "source": [
        "#@title Cargamos el entorno\n",
        "env = gym.make(\"MountainCar-v0\", render_mode=\"rgb_array\")\n",
        "env.reset(seed=seed)"
      ]
    },
    {
      "cell_type": "markdown",
      "metadata": {
        "id": "QgSJYG2oLcuF"
      },
      "source": [
        "## Este es el entorno"
      ]
    },
    {
      "cell_type": "code",
      "execution_count": 6,
      "metadata": {
        "colab": {
          "base_uri": "https://localhost:8080/",
          "height": 652
        },
        "id": "DosahbQxLebh",
        "outputId": "2d512da3-c5de-4d18-bb16-239fd4260ad2"
      },
      "outputs": [
        {
          "output_type": "stream",
          "name": "stderr",
          "text": [
            "/usr/local/lib/python3.11/dist-packages/pygame/pkgdata.py:25: DeprecationWarning: pkg_resources is deprecated as an API. See https://setuptools.pypa.io/en/latest/pkg_resources.html\n",
            "  from pkg_resources import resource_stream, resource_exists\n",
            "/usr/local/lib/python3.11/dist-packages/pkg_resources/__init__.py:3154: DeprecationWarning: Deprecated call to `pkg_resources.declare_namespace('google')`.\n",
            "Implementing implicit namespace packages (as specified in PEP 420) is preferred to `pkg_resources.declare_namespace`. See https://setuptools.pypa.io/en/latest/references/keywords.html#keyword-namespace-packages\n",
            "  declare_namespace(pkg)\n",
            "/usr/local/lib/python3.11/dist-packages/pkg_resources/__init__.py:3154: DeprecationWarning: Deprecated call to `pkg_resources.declare_namespace('google.cloud')`.\n",
            "Implementing implicit namespace packages (as specified in PEP 420) is preferred to `pkg_resources.declare_namespace`. See https://setuptools.pypa.io/en/latest/references/keywords.html#keyword-namespace-packages\n",
            "  declare_namespace(pkg)\n",
            "/usr/local/lib/python3.11/dist-packages/pkg_resources/__init__.py:3154: DeprecationWarning: Deprecated call to `pkg_resources.declare_namespace('sphinxcontrib')`.\n",
            "Implementing implicit namespace packages (as specified in PEP 420) is preferred to `pkg_resources.declare_namespace`. See https://setuptools.pypa.io/en/latest/references/keywords.html#keyword-namespace-packages\n",
            "  declare_namespace(pkg)\n"
          ]
        },
        {
          "output_type": "execute_result",
          "data": {
            "text/plain": [
              "array([[[255, 255, 255],\n",
              "        [255, 255, 255],\n",
              "        [255, 255, 255],\n",
              "        ...,\n",
              "        [255, 255, 255],\n",
              "        [255, 255, 255],\n",
              "        [255, 255, 255]],\n",
              "\n",
              "       [[255, 255, 255],\n",
              "        [255, 255, 255],\n",
              "        [255, 255, 255],\n",
              "        ...,\n",
              "        [255, 255, 255],\n",
              "        [255, 255, 255],\n",
              "        [255, 255, 255]],\n",
              "\n",
              "       [[255, 255, 255],\n",
              "        [255, 255, 255],\n",
              "        [255, 255, 255],\n",
              "        ...,\n",
              "        [255, 255, 255],\n",
              "        [255, 255, 255],\n",
              "        [255, 255, 255]],\n",
              "\n",
              "       ...,\n",
              "\n",
              "       [[255, 255, 255],\n",
              "        [255, 255, 255],\n",
              "        [255, 255, 255],\n",
              "        ...,\n",
              "        [255, 255, 255],\n",
              "        [255, 255, 255],\n",
              "        [255, 255, 255]],\n",
              "\n",
              "       [[255, 255, 255],\n",
              "        [255, 255, 255],\n",
              "        [255, 255, 255],\n",
              "        ...,\n",
              "        [255, 255, 255],\n",
              "        [255, 255, 255],\n",
              "        [255, 255, 255]],\n",
              "\n",
              "       [[255, 255, 255],\n",
              "        [255, 255, 255],\n",
              "        [255, 255, 255],\n",
              "        ...,\n",
              "        [255, 255, 255],\n",
              "        [255, 255, 255],\n",
              "        [255, 255, 255]]], dtype=uint8)"
            ],
            "text/html": [
              "<style>\n",
              "      .ndarray_repr .ndarray_raw_data {\n",
              "        display: none;\n",
              "      }\n",
              "      .ndarray_repr.show_array .ndarray_raw_data {\n",
              "        display: block;\n",
              "      }\n",
              "      .ndarray_repr.show_array .ndarray_image_preview {\n",
              "        display: none;\n",
              "      }\n",
              "      </style>\n",
              "      <div id=\"id-d8aa244e-3e6b-4f10-b87d-6a8d7db32f87\" class=\"ndarray_repr\"><pre>ndarray (400, 600, 3) <button style=\"padding: 0 2px;\">show data</button></pre><img src=\"data:image/png;base64,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\" class=\"ndarray_image_preview\" /><pre class=\"ndarray_raw_data\">array([[[255, 255, 255],\n",
              "        [255, 255, 255],\n",
              "        [255, 255, 255],\n",
              "        ...,\n",
              "        [255, 255, 255],\n",
              "        [255, 255, 255],\n",
              "        [255, 255, 255]],\n",
              "\n",
              "       [[255, 255, 255],\n",
              "        [255, 255, 255],\n",
              "        [255, 255, 255],\n",
              "        ...,\n",
              "        [255, 255, 255],\n",
              "        [255, 255, 255],\n",
              "        [255, 255, 255]],\n",
              "\n",
              "       [[255, 255, 255],\n",
              "        [255, 255, 255],\n",
              "        [255, 255, 255],\n",
              "        ...,\n",
              "        [255, 255, 255],\n",
              "        [255, 255, 255],\n",
              "        [255, 255, 255]],\n",
              "\n",
              "       ...,\n",
              "\n",
              "       [[255, 255, 255],\n",
              "        [255, 255, 255],\n",
              "        [255, 255, 255],\n",
              "        ...,\n",
              "        [255, 255, 255],\n",
              "        [255, 255, 255],\n",
              "        [255, 255, 255]],\n",
              "\n",
              "       [[255, 255, 255],\n",
              "        [255, 255, 255],\n",
              "        [255, 255, 255],\n",
              "        ...,\n",
              "        [255, 255, 255],\n",
              "        [255, 255, 255],\n",
              "        [255, 255, 255]],\n",
              "\n",
              "       [[255, 255, 255],\n",
              "        [255, 255, 255],\n",
              "        [255, 255, 255],\n",
              "        ...,\n",
              "        [255, 255, 255],\n",
              "        [255, 255, 255],\n",
              "        [255, 255, 255]]], dtype=uint8)</pre></div><script>\n",
              "      (() => {\n",
              "      const titles = ['show data', 'hide data'];\n",
              "      let index = 0\n",
              "      document.querySelector('#id-d8aa244e-3e6b-4f10-b87d-6a8d7db32f87 button').onclick = (e) => {\n",
              "        document.querySelector('#id-d8aa244e-3e6b-4f10-b87d-6a8d7db32f87').classList.toggle('show_array');\n",
              "        index = (++index) % 2;\n",
              "        document.querySelector('#id-d8aa244e-3e6b-4f10-b87d-6a8d7db32f87 button').textContent = titles[index];\n",
              "        e.preventDefault();\n",
              "        e.stopPropagation();\n",
              "      }\n",
              "      })();\n",
              "    </script>"
            ]
          },
          "metadata": {},
          "execution_count": 6
        }
      ],
      "source": [
        "env.render()"
      ]
    },
    {
      "cell_type": "markdown",
      "metadata": {
        "id": "kdWiKaebWztR"
      },
      "source": [
        "### **Las acciones del entorno**\n",
        "\n",
        "La acciones disponibles son:\n",
        "- 0: Acelerar a la izquierda.\n",
        "- 1: No acelerar\n",
        "- 2: Acelerar a la derecha"
      ]
    },
    {
      "cell_type": "code",
      "execution_count": 7,
      "metadata": {
        "colab": {
          "base_uri": "https://localhost:8080/"
        },
        "id": "XqboAsIbW_nV",
        "outputId": "8380ab8c-a31f-4a01-f339-52f57da67dfb"
      },
      "outputs": [
        {
          "output_type": "execute_result",
          "data": {
            "text/plain": [
              "Discrete(3)"
            ]
          },
          "metadata": {},
          "execution_count": 7
        }
      ],
      "source": [
        "env.action_space"
      ]
    },
    {
      "cell_type": "markdown",
      "metadata": {
        "id": "H8RTbpT2XG6L"
      },
      "source": [
        "### **Los estados del entorno**\n",
        "\n",
        "Las observaciones es un ndarray con dimensión (2,) donde los elementos se corresponde a los siguientes valores:\n",
        "\n",
        "| Número | Observación                          | Mínimo | Máximo | Unidad        |\n",
        "|--------|--------------------------------------|--------|--------|---------------|\n",
        "| 0      | Posición del coche en el eje x      | -1.2   | 0.6    | posición (m)  |\n",
        "| 1      | Velocidad del coche                 | -0.07  | 0.07   | velocidad (v) |\n"
      ]
    },
    {
      "cell_type": "code",
      "execution_count": 8,
      "metadata": {
        "colab": {
          "base_uri": "https://localhost:8080/"
        },
        "id": "im6oS8xqXj0b",
        "outputId": "44c31e79-66c4-42f3-b493-f0c3db73235c"
      },
      "outputs": [
        {
          "output_type": "execute_result",
          "data": {
            "text/plain": [
              "(Box([-1.2  -0.07], [0.6  0.07], (2,), float32),\n",
              " array([-1.2 , -0.07], dtype=float32),\n",
              " array([0.6 , 0.07], dtype=float32))"
            ]
          },
          "metadata": {},
          "execution_count": 8
        }
      ],
      "source": [
        "env.observation_space, env.observation_space.low,  env.observation_space.high"
      ]
    },
    {
      "cell_type": "markdown",
      "source": [
        "### **Representaciones Gráficas**\n",
        "\n",
        "Para comprobar el aprendizaje se mostrará la función $f(t)=\\frac{\\sum_{i=1}^t R_i}{t}$ para $t=1,2,\\ldots, NumeroEpisodios$. La justificación es la siguiente. Como sabemmos que el retorno en el estados inicial 1 (pues no hay descuento) o 9, si se divide por el número de episodios ejecutados se calcular el porcentaje de recompensas positivas obtenidas. Dicho de otra forma, nos dirá el porcentaje de veces que el agente ha llegado al estado terminal.\n",
        "\n",
        "También se muestra una gráfica con la longitud de los episodios en cada estado."
      ],
      "metadata": {
        "id": "nn7Ciaz1VqIL"
      }
    },
    {
      "cell_type": "code",
      "source": [
        "# @title Funciones para mostrar los resultados\n",
        "\n",
        "def plot(list_stats):\n",
        "  # Creamos una lista de índices para el eje x\n",
        "  indices = list(range(len(list_stats)))\n",
        "\n",
        "  # Creamos el gráfico\n",
        "  plt.figure(figsize=(15, 8))\n",
        "  plt.plot(indices, list_stats)\n",
        "\n",
        "  # Añadimos título y etiquetas\n",
        "  plt.title('Proporción de recompensas')\n",
        "  plt.xlabel('Episodio')\n",
        "  plt.ylabel('Proporción')\n",
        "\n",
        "  # Mostramos el gráfico\n",
        "  plt.grid(True)\n",
        "  plt.show()\n",
        "\n",
        "# Función para mostrar el tamaño de los episodios\n",
        "def plot_episode_lengths(episode_lengths):\n",
        "    \"\"\"\n",
        "    Grafica la longitud de los episodios\n",
        "    \"\"\"\n",
        "    # Creamos una lista de índices para el eje x (número de episodios)\n",
        "    indices = list(range(len(episode_lengths)))\n",
        "\n",
        "    # Creamos el gráfico\n",
        "    plt.figure(figsize=(15, 8))\n",
        "    plt.plot(indices, episode_lengths)\n",
        "\n",
        "    # Añadimos título y etiquetas\n",
        "    plt.title('Longitud de los Episodios')\n",
        "    plt.xlabel('Episodio')\n",
        "    plt.ylabel('Longitud del Episodio')\n",
        "\n",
        "    # Mostramos el gráfico\n",
        "    plt.grid(True)\n",
        "    plt.show()\n",
        "\n",
        "# Histograma con la longitud de los episodios\n",
        "def plot_episode_lengths_histogram(episode_lengths, bins=20):\n",
        "    \"\"\"\n",
        "    Muestra un histograma de la frecuencia de las longitudes de episodios\n",
        "    \"\"\"\n",
        "    plt.figure(figsize=(15, 8))\n",
        "    plt.hist(episode_lengths, bins=bins, alpha=0.75, color='blue', edgecolor='black')\n",
        "\n",
        "    plt.title('Distribución de la Longitud de los Episodios')\n",
        "    plt.xlabel('Longitud del Episodio')\n",
        "    plt.ylabel('Frecuencia')\n",
        "    plt.grid(True)\n",
        "    plt.show()"
      ],
      "metadata": {
        "id": "peDdZjedWUyH"
      },
      "execution_count": 9,
      "outputs": []
    },
    {
      "cell_type": "markdown",
      "source": [
        "### **Preparación del entorno para grabar episodios de Gymnasium**"
      ],
      "metadata": {
        "id": "vKwLgNwyXYS1"
      }
    },
    {
      "cell_type": "code",
      "source": [
        "# Instalación de algunos paquetes.\n",
        "!apt-get update\n",
        "\n",
        "# Para visualizar en colab https://medium.com/@coldstart_coder/visually-rendering-python-gymnasium-in-jupyter-notebooks-4413e4087a0f\n",
        "!apt-get install -y python-opengl ffmpeg\n",
        "!apt-get install --upgrade cmake\n",
        "\n",
        "# Para usar gymnasium[box2d]\n",
        "!apt install swig xvfb\n",
        "!pip install -U  pyvirtualdisplay"
      ],
      "metadata": {
        "id": "cuEWjfooXcBm",
        "outputId": "96a02a2f-9f68-4c8e-807c-286e69b2478e",
        "colab": {
          "base_uri": "https://localhost:8080/"
        }
      },
      "execution_count": 10,
      "outputs": [
        {
          "output_type": "stream",
          "name": "stdout",
          "text": [
            "Get:1 http://security.ubuntu.com/ubuntu jammy-security InRelease [129 kB]\n",
            "Hit:2 http://archive.ubuntu.com/ubuntu jammy InRelease\n",
            "Get:3 http://archive.ubuntu.com/ubuntu jammy-updates InRelease [128 kB]\n",
            "Get:4 https://cloud.r-project.org/bin/linux/ubuntu jammy-cran40/ InRelease [3,632 B]\n",
            "Get:5 https://developer.download.nvidia.com/compute/cuda/repos/ubuntu2204/x86_64  InRelease [1,581 B]\n",
            "Get:6 https://r2u.stat.illinois.edu/ubuntu jammy InRelease [6,555 B]\n",
            "Hit:7 https://ppa.launchpadcontent.net/deadsnakes/ppa/ubuntu jammy InRelease\n",
            "Hit:8 https://ppa.launchpadcontent.net/graphics-drivers/ppa/ubuntu jammy InRelease\n",
            "Get:9 http://archive.ubuntu.com/ubuntu jammy-backports InRelease [127 kB]\n",
            "Hit:10 https://ppa.launchpadcontent.net/ubuntugis/ppa/ubuntu jammy InRelease\n",
            "Get:11 https://developer.download.nvidia.com/compute/cuda/repos/ubuntu2204/x86_64  Packages [1,369 kB]\n",
            "Get:12 https://r2u.stat.illinois.edu/ubuntu jammy/main all Packages [8,730 kB]\n",
            "Get:13 http://security.ubuntu.com/ubuntu jammy-security/multiverse amd64 Packages [56.4 kB]\n",
            "Get:14 http://security.ubuntu.com/ubuntu jammy-security/main amd64 Packages [2,682 kB]\n",
            "Get:15 https://r2u.stat.illinois.edu/ubuntu jammy/main amd64 Packages [2,668 kB]\n",
            "Get:16 http://security.ubuntu.com/ubuntu jammy-security/restricted amd64 Packages [3,774 kB]\n",
            "Get:17 http://archive.ubuntu.com/ubuntu jammy-updates/restricted amd64 Packages [3,934 kB]\n",
            "Get:18 http://archive.ubuntu.com/ubuntu jammy-updates/multiverse amd64 Packages [64.2 kB]\n",
            "Get:19 http://archive.ubuntu.com/ubuntu jammy-updates/main amd64 Packages [2,988 kB]\n",
            "Get:20 http://archive.ubuntu.com/ubuntu jammy-updates/universe amd64 Packages [1,533 kB]\n",
            "Fetched 28.2 MB in 7s (3,893 kB/s)\n",
            "Reading package lists... Done\n",
            "W: Skipping acquire of configured file 'main/source/Sources' as repository 'https://r2u.stat.illinois.edu/ubuntu jammy InRelease' does not seem to provide it (sources.list entry misspelt?)\n",
            "Reading package lists... Done\n",
            "Building dependency tree... Done\n",
            "Reading state information... Done\n",
            "E: Unable to locate package python-opengl\n",
            "Reading package lists... Done\n",
            "Building dependency tree... Done\n",
            "Reading state information... Done\n",
            "cmake is already the newest version (3.22.1-1ubuntu1.22.04.2).\n",
            "0 upgraded, 0 newly installed, 0 to remove and 32 not upgraded.\n",
            "Reading package lists... Done\n",
            "Building dependency tree... Done\n",
            "Reading state information... Done\n",
            "The following additional packages will be installed:\n",
            "  libfontenc1 libxfont2 libxkbfile1 swig4.0 x11-xkb-utils xfonts-base xfonts-encodings xfonts-utils\n",
            "  xserver-common\n",
            "Suggested packages:\n",
            "  swig-doc swig-examples swig4.0-examples swig4.0-doc\n",
            "The following NEW packages will be installed:\n",
            "  libfontenc1 libxfont2 libxkbfile1 swig swig4.0 x11-xkb-utils xfonts-base xfonts-encodings\n",
            "  xfonts-utils xserver-common xvfb\n",
            "0 upgraded, 11 newly installed, 0 to remove and 32 not upgraded.\n",
            "Need to get 8,930 kB of archives.\n",
            "After this operation, 17.5 MB of additional disk space will be used.\n",
            "Get:1 http://archive.ubuntu.com/ubuntu jammy/main amd64 libfontenc1 amd64 1:1.1.4-1build3 [14.7 kB]\n",
            "Get:2 http://archive.ubuntu.com/ubuntu jammy/main amd64 libxfont2 amd64 1:2.0.5-1build1 [94.5 kB]\n",
            "Get:3 http://archive.ubuntu.com/ubuntu jammy/main amd64 libxkbfile1 amd64 1:1.1.0-1build3 [71.8 kB]\n",
            "Get:4 http://archive.ubuntu.com/ubuntu jammy/universe amd64 swig4.0 amd64 4.0.2-1ubuntu1 [1,110 kB]\n",
            "Get:5 http://archive.ubuntu.com/ubuntu jammy/universe amd64 swig all 4.0.2-1ubuntu1 [5,632 B]\n",
            "Get:6 http://archive.ubuntu.com/ubuntu jammy/main amd64 x11-xkb-utils amd64 7.7+5build4 [172 kB]\n",
            "Get:7 http://archive.ubuntu.com/ubuntu jammy/main amd64 xfonts-encodings all 1:1.0.5-0ubuntu2 [578 kB]\n",
            "Get:8 http://archive.ubuntu.com/ubuntu jammy/main amd64 xfonts-utils amd64 1:7.7+6build2 [94.6 kB]\n",
            "Get:9 http://archive.ubuntu.com/ubuntu jammy/main amd64 xfonts-base all 1:1.0.5 [5,896 kB]\n",
            "Get:10 http://archive.ubuntu.com/ubuntu jammy-updates/main amd64 xserver-common all 2:21.1.4-2ubuntu1.7~22.04.13 [29.1 kB]\n",
            "Get:11 http://archive.ubuntu.com/ubuntu jammy-updates/universe amd64 xvfb amd64 2:21.1.4-2ubuntu1.7~22.04.13 [863 kB]\n",
            "Fetched 8,930 kB in 1s (7,493 kB/s)\n",
            "Selecting previously unselected package libfontenc1:amd64.\n",
            "(Reading database ... 124947 files and directories currently installed.)\n",
            "Preparing to unpack .../00-libfontenc1_1%3a1.1.4-1build3_amd64.deb ...\n",
            "Unpacking libfontenc1:amd64 (1:1.1.4-1build3) ...\n",
            "Selecting previously unselected package libxfont2:amd64.\n",
            "Preparing to unpack .../01-libxfont2_1%3a2.0.5-1build1_amd64.deb ...\n",
            "Unpacking libxfont2:amd64 (1:2.0.5-1build1) ...\n",
            "Selecting previously unselected package libxkbfile1:amd64.\n",
            "Preparing to unpack .../02-libxkbfile1_1%3a1.1.0-1build3_amd64.deb ...\n",
            "Unpacking libxkbfile1:amd64 (1:1.1.0-1build3) ...\n",
            "Selecting previously unselected package swig4.0.\n",
            "Preparing to unpack .../03-swig4.0_4.0.2-1ubuntu1_amd64.deb ...\n",
            "Unpacking swig4.0 (4.0.2-1ubuntu1) ...\n",
            "Selecting previously unselected package swig.\n",
            "Preparing to unpack .../04-swig_4.0.2-1ubuntu1_all.deb ...\n",
            "Unpacking swig (4.0.2-1ubuntu1) ...\n",
            "Selecting previously unselected package x11-xkb-utils.\n",
            "Preparing to unpack .../05-x11-xkb-utils_7.7+5build4_amd64.deb ...\n",
            "Unpacking x11-xkb-utils (7.7+5build4) ...\n",
            "Selecting previously unselected package xfonts-encodings.\n",
            "Preparing to unpack .../06-xfonts-encodings_1%3a1.0.5-0ubuntu2_all.deb ...\n",
            "Unpacking xfonts-encodings (1:1.0.5-0ubuntu2) ...\n",
            "Selecting previously unselected package xfonts-utils.\n",
            "Preparing to unpack .../07-xfonts-utils_1%3a7.7+6build2_amd64.deb ...\n",
            "Unpacking xfonts-utils (1:7.7+6build2) ...\n",
            "Selecting previously unselected package xfonts-base.\n",
            "Preparing to unpack .../08-xfonts-base_1%3a1.0.5_all.deb ...\n",
            "Unpacking xfonts-base (1:1.0.5) ...\n",
            "Selecting previously unselected package xserver-common.\n",
            "Preparing to unpack .../09-xserver-common_2%3a21.1.4-2ubuntu1.7~22.04.13_all.deb ...\n",
            "Unpacking xserver-common (2:21.1.4-2ubuntu1.7~22.04.13) ...\n",
            "Selecting previously unselected package xvfb.\n",
            "Preparing to unpack .../10-xvfb_2%3a21.1.4-2ubuntu1.7~22.04.13_amd64.deb ...\n",
            "Unpacking xvfb (2:21.1.4-2ubuntu1.7~22.04.13) ...\n",
            "Setting up libfontenc1:amd64 (1:1.1.4-1build3) ...\n",
            "Setting up xfonts-encodings (1:1.0.5-0ubuntu2) ...\n",
            "Setting up libxkbfile1:amd64 (1:1.1.0-1build3) ...\n",
            "Setting up swig4.0 (4.0.2-1ubuntu1) ...\n",
            "Setting up libxfont2:amd64 (1:2.0.5-1build1) ...\n",
            "Setting up swig (4.0.2-1ubuntu1) ...\n",
            "Setting up x11-xkb-utils (7.7+5build4) ...\n",
            "Setting up xfonts-utils (1:7.7+6build2) ...\n",
            "Setting up xfonts-base (1:1.0.5) ...\n",
            "Setting up xserver-common (2:21.1.4-2ubuntu1.7~22.04.13) ...\n",
            "Setting up xvfb (2:21.1.4-2ubuntu1.7~22.04.13) ...\n",
            "Processing triggers for man-db (2.10.2-1) ...\n",
            "Processing triggers for fontconfig (2.13.1-4.2ubuntu5) ...\n",
            "Processing triggers for libc-bin (2.35-0ubuntu3.8) ...\n",
            "/sbin/ldconfig.real: /usr/local/lib/libtbbbind_2_5.so.3 is not a symbolic link\n",
            "\n",
            "/sbin/ldconfig.real: /usr/local/lib/libtcm.so.1 is not a symbolic link\n",
            "\n",
            "/sbin/ldconfig.real: /usr/local/lib/libtbbbind.so.3 is not a symbolic link\n",
            "\n",
            "/sbin/ldconfig.real: /usr/local/lib/libtbbbind_2_0.so.3 is not a symbolic link\n",
            "\n",
            "/sbin/ldconfig.real: /usr/local/lib/libur_adapter_opencl.so.0 is not a symbolic link\n",
            "\n",
            "/sbin/ldconfig.real: /usr/local/lib/libtbbmalloc.so.2 is not a symbolic link\n",
            "\n",
            "/sbin/ldconfig.real: /usr/local/lib/libtbbmalloc_proxy.so.2 is not a symbolic link\n",
            "\n",
            "/sbin/ldconfig.real: /usr/local/lib/libhwloc.so.15 is not a symbolic link\n",
            "\n",
            "/sbin/ldconfig.real: /usr/local/lib/libtbb.so.12 is not a symbolic link\n",
            "\n",
            "/sbin/ldconfig.real: /usr/local/lib/libur_loader.so.0 is not a symbolic link\n",
            "\n",
            "/sbin/ldconfig.real: /usr/local/lib/libumf.so.0 is not a symbolic link\n",
            "\n",
            "/sbin/ldconfig.real: /usr/local/lib/libur_adapter_level_zero.so.0 is not a symbolic link\n",
            "\n",
            "/sbin/ldconfig.real: /usr/local/lib/libtcm_debug.so.1 is not a symbolic link\n",
            "\n",
            "Collecting pyvirtualdisplay\n",
            "  Downloading PyVirtualDisplay-3.0-py3-none-any.whl.metadata (943 bytes)\n",
            "Downloading PyVirtualDisplay-3.0-py3-none-any.whl (15 kB)\n",
            "Installing collected packages: pyvirtualdisplay\n",
            "Successfully installed pyvirtualdisplay-3.0\n"
          ]
        }
      ]
    },
    {
      "cell_type": "code",
      "source": [
        "!pip install gymnasium gymnasium[box2d]"
      ],
      "metadata": {
        "id": "lAqf3jJGXfQB",
        "outputId": "16d600b8-6187-402f-f2ad-e56b3d2f014c",
        "colab": {
          "base_uri": "https://localhost:8080/"
        }
      },
      "execution_count": 11,
      "outputs": [
        {
          "output_type": "stream",
          "name": "stdout",
          "text": [
            "Requirement already satisfied: gymnasium in /usr/local/lib/python3.11/dist-packages (1.1.0)\n",
            "Requirement already satisfied: numpy>=1.21.0 in /usr/local/lib/python3.11/dist-packages (from gymnasium) (1.26.4)\n",
            "Requirement already satisfied: cloudpickle>=1.2.0 in /usr/local/lib/python3.11/dist-packages (from gymnasium) (3.1.1)\n",
            "Requirement already satisfied: typing-extensions>=4.3.0 in /usr/local/lib/python3.11/dist-packages (from gymnasium) (4.12.2)\n",
            "Requirement already satisfied: farama-notifications>=0.0.1 in /usr/local/lib/python3.11/dist-packages (from gymnasium) (0.0.4)\n",
            "Collecting box2d-py==2.3.5 (from gymnasium[box2d])\n",
            "  Downloading box2d-py-2.3.5.tar.gz (374 kB)\n",
            "\u001b[2K     \u001b[90m━━━━━━━━━━━━━━━━━━━━━━━━━━━━━━━━━━━━━━━━\u001b[0m \u001b[32m374.4/374.4 kB\u001b[0m \u001b[31m5.5 MB/s\u001b[0m eta \u001b[36m0:00:00\u001b[0m\n",
            "\u001b[?25h  Preparing metadata (setup.py) ... \u001b[?25l\u001b[?25hdone\n",
            "Requirement already satisfied: pygame>=2.1.3 in /usr/local/lib/python3.11/dist-packages (from gymnasium[box2d]) (2.6.1)\n",
            "Collecting swig==4.* (from gymnasium[box2d])\n",
            "  Downloading swig-4.3.0-py2.py3-none-manylinux_2_5_x86_64.manylinux1_x86_64.whl.metadata (3.5 kB)\n",
            "Downloading swig-4.3.0-py2.py3-none-manylinux_2_5_x86_64.manylinux1_x86_64.whl (1.9 MB)\n",
            "\u001b[2K   \u001b[90m━━━━━━━━━━━━━━━━━━━━━━━━━━━━━━━━━━━━━━━━\u001b[0m \u001b[32m1.9/1.9 MB\u001b[0m \u001b[31m33.2 MB/s\u001b[0m eta \u001b[36m0:00:00\u001b[0m\n",
            "\u001b[?25hBuilding wheels for collected packages: box2d-py\n",
            "  Building wheel for box2d-py (setup.py) ... \u001b[?25l\u001b[?25hdone\n",
            "  Created wheel for box2d-py: filename=box2d_py-2.3.5-cp311-cp311-linux_x86_64.whl size=2351176 sha256=8b5bcfd233feb72420e6b480821c1dbbdcfbab6768ebefb5d6312c880bf9a8d7\n",
            "  Stored in directory: /root/.cache/pip/wheels/ab/f1/0c/d56f4a2bdd12bae0a0693ec33f2f0daadb5eb9753c78fa5308\n",
            "Successfully built box2d-py\n",
            "Installing collected packages: swig, box2d-py\n",
            "Successfully installed box2d-py-2.3.5 swig-4.3.0\n"
          ]
        }
      ]
    },
    {
      "cell_type": "code",
      "source": [
        "## Para visualizar en colab https://medium.com/@coldstart_coder/visually-rendering-python-gymnasium-in-jupyter-notebooks-4413e4087a0f\n",
        "## https://medium.com/@coldstart_coder/dqn-algorithm-training-an-ai-to-land-on-the-moon-1a1307748ed9\n",
        "# create a virtual display that will hold our video\n",
        "\n",
        "# Google Colab se ejecuta en un entorno de servidor sin una interfaz gráfica de\n",
        "# usuario (GUI). Para mostrar contenido visual como videos, se necesita una\n",
        "# pantalla virtual para simular una pantalla.\n",
        "# Esto permite que bibliotecas como gymnasium rendericen gráficos\n",
        "# y los capturen para incrustarlos en el notebook.\n",
        "#\n",
        "# Este código crea una pantalla virtual oculta donde se puede renderizar contenido gráfico.\n",
        "\n",
        "# pyvirtualdisplay es una biblioteca se usa para crear pantallas virtuales,\n",
        "# que son esenciales para renderizar contenido gráfico en entornos sin interfaz gráfica.\n",
        "from pyvirtualdisplay import Display\n",
        "\n",
        "# visible=0 indica que la pantalla estará oculta (no visible para el usuario).\n",
        "# Esto se debe a que Colab se ejecuta en un entorno de servidor sin una interfaz gráfica.\n",
        "# size=(1400, 900) establece la resolución de la pantalla virtual a 1400x900 píxeles.\n",
        "display = Display(visible=0, size=(1400, 900))\n",
        "\n",
        "# inicia la pantalla virtual, preparándola para su uso.\n",
        "display.start()\n",
        "\n",
        "\n",
        "# Las siguientes líneas importan las bibliotecas necesarias para trabajar\n",
        "# con entrada/salida, codificación base64 (usada para incrustar datos de video)\n",
        "# y mostrar contenido HTML dentro del notebook de Colab.\n",
        "import io\n",
        "import base64\n",
        "from IPython import display\n",
        "from IPython.display import HTML\n",
        "\n",
        "# Esta función mostrará un vídelo en la pantalla virtual, que será embembida en el notbook\n",
        "def embed_video(video_file):\n",
        "    # open and read the raw data from the video\n",
        "    video_data = io.open(video_file, 'r+b').read()\n",
        "    # now we have to encode the data into base64 to work\n",
        "    # with the virtual display\n",
        "    encoded_data = base64.b64encode(video_data)\n",
        "    # now we use the display.display function to take some html\n",
        "    # and the encoded data and embed the html into the notebook!\n",
        "    display.display(HTML(data='''<video alt=\"test\" autoplay\n",
        "                loop controls style=\"height: 400px;\">\n",
        "                <source src=\"data:video/mp4;base64,{0}\" type=\"video/mp4\" />\n",
        "                </video>'''.format(encoded_data.decode('ascii'))))"
      ],
      "metadata": {
        "id": "iPU9xXvoXhmw"
      },
      "execution_count": 12,
      "outputs": []
    },
    {
      "cell_type": "code",
      "source": [
        "import re # Para trabajar con expresiones regulares\n",
        "import os # Para manipular archivos, directorios, variables de entorno y ejecutar comandos del SO\n",
        "\n",
        "# Define la carpeta donde se guardarán los vídeos\n",
        "video_folder = \"videos\"  # Nombre de la carpeta (puedes cambiarlo)\n",
        "\n",
        "# Crea la carpeta si no existe\n",
        "os.makedirs(video_folder, exist_ok=True) # exist_ok=True evita error si ya existe\n",
        "\n",
        "# Retorna el nombre del último vídeo generado\n",
        "\n",
        "def get_latest_episode_video_file(directory):\n",
        "    # Expresión regular que coincide con el formato de los ficheros de video\n",
        "    pattern = re.compile(r\"rl-video-episode-(\\d+)\\.mp4\")\n",
        "    latest_file = None\n",
        "    highest_episode = -1\n",
        "\n",
        "    # Busca en el directorio\n",
        "    for filename in os.listdir(directory):\n",
        "        match = pattern.match(filename)\n",
        "        if match:\n",
        "            episode_number = int(match.group(1))  # Extrae el número de episodio\n",
        "            # Comprobamos, para conseguir el número de episodio más alto.\n",
        "            if episode_number > highest_episode:\n",
        "                highest_episode = episode_number\n",
        "                latest_file = os.path.join(directory, filename)  # Almacena el path completo\n",
        "\n",
        "    return latest_file"
      ],
      "metadata": {
        "id": "UsNxliF0Xj-N"
      },
      "execution_count": 13,
      "outputs": []
    },
    {
      "cell_type": "markdown",
      "source": [
        "## **1. SARSA semi-gradiente**\n",
        "\n",
        "Para SARSA semi-gradiente, se calculará una función aproximada de la función de evaluación de estado-acción, usando una aproximación lineal.  \n",
        "   Asumimos que\n",
        "   $$\n",
        "   \\widehat{q}(s, a, \\mathbf{w}) \\;=\\; \\mathbf{w}^\\top \\mathbf{x}(s, a),\n",
        "   $$\n",
        "   donde $\\mathbf{x}(s, a)$ es un **vector de características**.\n",
        "   \n",
        "Vamos a suponer que el vector de características viene dado por Tile Coding."
      ],
      "metadata": {
        "id": "SGY-ZpjST4bo"
      }
    },
    {
      "cell_type": "markdown",
      "metadata": {
        "id": "OVg1SvxOvgqO"
      },
      "source": [
        "### **Tile Coding**\n",
        "\n",
        "Tile Coding divide el espacio de estados  en regiones o \"tiles\" (azulejos).\n",
        "Cada división recibe el nombre mosaicos (rejillas o tiling).\n",
        "\n",
        "La idea principal es cubrir el espacio de estados con varias rejillas (tilings) que se superponen. Cada rejilla divide el espacio en celdas (tiles) y está ligeramente desplazada respecto a las otras. Esto permite que cada punto del espacio se asocie a varios tiles, uno por cada rejilla.\n",
        "\n"
      ]
    },
    {
      "cell_type": "code",
      "execution_count": 14,
      "metadata": {
        "colab": {
          "base_uri": "https://localhost:8080/",
          "height": 334
        },
        "id": "bN3oxgSktXpE",
        "outputId": "b8bdb650-eb35-400e-cd86-9050bccc996a"
      },
      "outputs": [
        {
          "output_type": "display_data",
          "data": {
            "text/plain": [
              "<Figure size 400x300 with 1 Axes>"
            ],
            "image/png": "[encoded data removed]"
          },
          "metadata": {}
        }
      ],
      "source": [
        "#@title Por ejemplo, podemos generar 2 tilings sbore el espacio $[-1.2, 0.6]\\times [-0.07, 0.07]$ Cada color es un mosaico.\n",
        "\n",
        "import numpy as np\n",
        "import matplotlib.pyplot as plt\n",
        "\n",
        "# Parámetros del espacio\n",
        "x_min, x_max = -1.2, 0.6    # Rango para la posición\n",
        "y_min, y_max = -0.07, 0.07  # Rango para la velocidad\n",
        "\n",
        "# Número de celdas en cada dimensión y tilings\n",
        "num_cells = 5       # se dividen en 5 celdas (25 posibles regiones)\n",
        "num_tilings = 2     # cantidad de tilings\n",
        "\n",
        "# Tamaño de cada celda\n",
        "dx = (x_max - x_min) / num_cells\n",
        "dy = (y_max - y_min) / num_cells\n",
        "\n",
        "# Colores para cada tiling\n",
        "colors = ['red', 'green', 'blue', 'orange']\n",
        "\n",
        "# Crear la figura y el eje\n",
        "fig, ax = plt.subplots(figsize=(4, 3))\n",
        "ax.set_xlim(x_min, x_max)\n",
        "ax.set_ylim(y_min, y_max)\n",
        "ax.set_xlabel(\"Posición\")\n",
        "ax.set_ylabel(\"Velocidad\")\n",
        "ax.set_title(\"Superposición de 2 Tilings\")\n",
        "\n",
        "# Dibujar cada tiling con un offset progresivo\n",
        "for i in range(num_tilings):\n",
        "    # Calcular el offset para este tiling (una fracción del tamaño de celda)\n",
        "    offset_x = (i / num_tilings) * dx\n",
        "    offset_y = (i / num_tilings) * dy\n",
        "\n",
        "    # Calcular las posiciones de las líneas de la grilla para cada tiling.\n",
        "    # Se extiende ligeramente el rango para que se vean las líneas desplazadas.\n",
        "    x_lines = np.arange(x_min + offset_x/(i+1), x_max + dx, dx)\n",
        "    y_lines = np.arange(y_min + offset_y-offset_y/((2*i+1)), y_max + dy, dy)\n",
        "\n",
        "    # Dibujar líneas verticales\n",
        "    for xv in x_lines:\n",
        "        ax.axvline(x=xv, color=colors[i], linestyle='--', alpha=0.7, label=f'Tiling {i+1}' if xv==x_lines[0] else \"\")\n",
        "    # Dibujar líneas horizontales\n",
        "    for yv in y_lines:\n",
        "        ax.axhline(y=yv, color=colors[i], linestyle='--', alpha=0.7)\n",
        "\n",
        "# Mostrar leyenda (cada tiling se etiqueta una sola vez)\n",
        "ax.legend()\n",
        "\n",
        "plt.scatter(-0.6, 0.03, color='blue', s=100)  # s es el tamaño del punto\n",
        "plt.show()\n"
      ]
    },
    {
      "cell_type": "markdown",
      "metadata": {
        "id": "iTAb234nu3JA"
      },
      "source": [
        "\n",
        "Para un estado dado, representado con un punto, se determina en qué teselas cae en cada una de las rejillas. Esto permite definir un vector binario (o vector de características), $\\mathbf{x}(s, a)$, donde cada componente indica si un tile específico está activo (por ejemplo, con valor 1) o no (valor 0).\n",
        "La mayoría de componentes son 0 y unas pocas son 1, correspondientes a los tiles activos)."
      ]
    },
    {
      "cell_type": "markdown",
      "metadata": {
        "id": "ZOggOxgHvgqO"
      },
      "source": [
        "### **Creamos una Tile Coding para los estados de MountainCar**\n",
        "\n",
        "TileCodingEnv es un envoltorio para un entorno Gym que aplica la técnica de Tile Coding.\n",
        "\n",
        "Esta técnica discretiza observaciones continuas en múltiples rejillas (tilings) desplazadas, permitiendo representar el espacio de estados de forma que se faciliten la generalización y el aprendizaje.\n",
        "\n",
        "- Se ha implementado un Wrapper `TileCodingEnv` sobre el espacio de observaciones.\n",
        "- Vamos a generar varios tilings (mosaicos)."
      ]
    },
    {
      "cell_type": "code",
      "source": [
        "#@title Cargamos el entorno\n",
        "env = gym.make(\"MountainCar-v0\", render_mode = \"rgb_array\")\n",
        "env.reset(seed=seed)\n",
        "\n",
        "# Aplica el wrapper para modificar el número de pasos y las recompensas\n",
        "env = MountainCarCustomRewards(env, max_steps=500, negative_reward=-1, goal_reward=100)"
      ],
      "metadata": {
        "id": "rjLpfG7rZpFZ"
      },
      "execution_count": 15,
      "outputs": []
    },
    {
      "cell_type": "code",
      "execution_count": 16,
      "metadata": {
        "id": "zo286x38vgqO"
      },
      "outputs": [],
      "source": [
        "#@title Generamos  mosaicos (tilings) con varios intervalos por dimensión. Al nuevo espacio lo llamaremos *tcenv*\n",
        "tilings = 10  # Número de mosaicos\n",
        "bins = np.array([20, 20])  # Número de intervalos en cada dimensión. 20 en cada una\n",
        "low = env.observation_space.low\n",
        "high = env.observation_space.high\n",
        "tcenv = TileCodingEnv(env, bins=bins, low=low, high=high, n=tilings)"
      ]
    },
    {
      "cell_type": "code",
      "execution_count": 17,
      "metadata": {
        "colab": {
          "base_uri": "https://localhost:8080/"
        },
        "id": "0Bs_FL8jvgqO",
        "outputId": "9078526e-b8bc-4ebf-83bc-187827f9c6a8"
      },
      "outputs": [
        {
          "output_type": "stream",
          "name": "stdout",
          "text": [
            "El espacio de observaciones original es: Box([-1.2  -0.07], [0.6  0.07], (2,), float32), \n",
            "Un estado para este espacio original es: (array([-4.6527219e-01, -4.3845834e-04], dtype=float32), -1, False, False, {})\n",
            "\n",
            "El espacio de estados modificado es: MultiDiscrete([20 20 20 20 20 20 20 20 20 20 20 20 20 20 20 20 20 20 20 20]). Mosaicos: 10 \n",
            "Un estado para este nuevo espacio es: [(8, 9), (8, 9), (8, 9), (8, 8), (7, 9), (7, 9), (7, 9), (7, 9), (7, 9), (7, 9)] \n",
            "Cada pareja es la 'celda' correspondiente a cada mosaico\n",
            "Las caracterísiticas observadas han sido [169, 569, 969, 1368, 1749, 2149, 2549, 2949, 3349, 3749] sobre 4000 parámetros\n"
          ]
        }
      ],
      "source": [
        "#@title Comparamos el entorno original con el entorno con estados agregados\n",
        "\n",
        "print(f\"El espacio de observaciones original es: {env.observation_space}, \\n\\\n",
        "Un estado para este espacio original es: {env.step(env.action_space.sample())}\")\n",
        "print(f\"\\nEl espacio de estados modificado es: {tcenv.observation_space}. Mosaicos: {tcenv.n_tilings} \\n\\\n",
        "Un estado para este nuevo espacio es: {tcenv.step(tcenv.action_space.sample())[0]} \\n\\\n",
        "Cada pareja es la 'celda' correspondiente a cada mosaico\")\n",
        "print(f\"Las caracterísiticas observadas han sido {tcenv.last_active_features} sobre {np.prod(tcenv.bins)*tcenv.n_tilings} parámetros\")"
      ]
    },
    {
      "cell_type": "markdown",
      "metadata": {
        "id": "yBp9Au_ZxiLB"
      },
      "source": [
        "### **Cómo usar el código para obtener una aproximación de Q(s,a)**\n",
        "\n",
        "\n",
        "Queremos calcular $\\widehat{q}(s, a, \\mathbf{w}) = \\displaystyle\\mathbf{w}^\\top \\mathbf{x}(s, a) = \\sum_{i=1}^d w_i \\cdot x_i(s, a)$\n",
        "\n",
        "\n",
        "Para cada acción, la  función tendrá tantos pesos como el número total de tiles (celdas) generadas en todos los tilings. Por tanto, los pesos $\\mathbf{w}$  se definen como una matriz de dimensiones $total\\_features \\times n\\_actions$.\n",
        "\n",
        "```\n",
        "# Número de acciones en el entorno original\n",
        "num_actions = tcenv.env.action_space.n  \n",
        "\n",
        "# Número total de características en el aproximador lineal:\n",
        "total_features = tcenv.n_tilings * np.prod(tcenv.bins)\n",
        "\n",
        "# Inicializamos los pesos (por ejemplo, en cero)\n",
        "w = np.zeros((total_features, num_actions))\n",
        "```\n",
        "\n",
        "Cada fila de `w` corresponde a una feature (un tile específico de un tiling) y cada columna a una acción.\n",
        "\n",
        "Como las características son binarias, la evaluación de $\\widehat{q}$ se reduce a sumar los pesos que se corresponde a las características activas:\n",
        "$$\n",
        "\\widehat{q}(s, a, \\mathbf{w}) = \\sum_{i \\in \\text{features_activas}(s)} w_{i,a}.\n",
        "$$\n",
        "\n",
        "\n",
        "\n",
        " Así, cuando estés en un estado $s$, el método `tcenv.observation(s)` (y, por extensión, `tcenv.last_active_features`) te proporcionará los índices de los tiles activos en ese estado. Por ejemplo, si `tcenv.last_active_features` retorna `[35, 142, 18, 600]` y seleccionas la acción $a$, entonces\n",
        "\n",
        "```python\n",
        "q_sa = w[35, a] + w[142, a] + w[18, a] + w[600, a]\n",
        "```\n",
        "\n",
        "Eso es lo que define y cómo se utiliza la matriz de pesos $\\mathbf{w}$ según el código y la aproximación lineal con Tile Coding."
      ]
    },
    {
      "cell_type": "markdown",
      "metadata": {
        "id": "K6WMW6LlNEcX"
      },
      "source": [
        "## ¿Como usarlo para SARSA o Q-Learning?"
      ]
    },
    {
      "cell_type": "markdown",
      "metadata": {
        "id": "gp5XhRR9s5zc"
      },
      "source": [
        "\n",
        "Recordemos la teoría. Supongamos que se quiere aplicar semigradiente-SARSA\n",
        "\n",
        "1. **Regla de actualización general (semigradiente SARSA)**  \n",
        "   Se usa la siguiente ecuación de actualización para los pesos $\\mathbf{w}$:\n",
        "\n",
        "   $$\n",
        "   \\mathbf{w} \\;\\leftarrow\\;\n",
        "   \\mathbf{w}\n",
        "   \\;+\\; \\alpha \\Bigl[\n",
        "     R + \\gamma \\,\\widehat{q}(S', A', \\mathbf{w})\n",
        "     \\;-\\; \\widehat{q}(S, A, \\mathbf{w})\n",
        "   \\Bigr]\n",
        "   \\,\\nabla_{\\mathbf{w}} \\widehat{q}(S, A, \\mathbf{w})\n",
        "   $$\n",
        "   \n",
        "   Siendo $\\alpha$ la tasa de aprendizaje, $\\gamma$ el factor de descuento, y $R$ la recompensa obtenida en la transición $(S, A) \\to (S', A')$.\n",
        "\n",
        "\n",
        "2. **La función aproximada**  que estamos asumiendo es\n",
        "   $\n",
        "   \\widehat{q}(s, a, \\mathbf{w}) \\;=\\; \\mathbf{w}^\\top \\mathbf{x}(s, a),\n",
        "   $\n",
        "   donde $\\mathbf{x}(s, a)$ es un **vector de características**. Ya sabemos cómo calcular este valor.\n",
        "\n",
        "3. **Gradiente de $\\widehat{q}$**  \n",
        "   Se necesita calcular $\\nabla_{\\mathbf{w}} \\widehat{q}(S, A, \\mathbf{w})$, pero  dado que $\\widehat{q}$ es lineal, la derivada con respecto a $\\mathbf{w}$ es simplemente:\n",
        "   $$\n",
        "   \\nabla_{\\mathbf{w}} \\widehat{q}(s, a, \\mathbf{w})\n",
        "   \\;=\\;\n",
        "   \\mathbf{x}(s, a).\n",
        "   $$\n",
        "   - En Tile Coding, $\\mathbf{x}(s,a)$ será  un vector con 1s en los índices de los tiles activos y 0s en el resto.\n",
        "\n",
        "3. **Regla de actualización específica (semigradiente SARSA)**\n",
        "\n",
        "   Al reemplazar $\\nabla_{\\mathbf{w}} \\widehat{q}(S, A, \\mathbf{w})$ por $\\mathbf{x}(S, A)$, se obtiene:\n",
        "\n",
        "   $$\n",
        "   \\mathbf{w}\n",
        "   \\;\\leftarrow\\;\n",
        "   \\mathbf{w}\n",
        "   \\;+\\;\n",
        "   \\alpha \\,\\Bigl[\n",
        "     R + \\gamma \\,\\widehat{q}(S', A', \\mathbf{w}) - \\widehat{q}(S, A, \\mathbf{w})\n",
        "   \\Bigr]\n",
        "   \\,\\mathbf{x}(S, A).\n",
        "   $$\n",
        "\n",
        "   A menudo se define el **TD-error** $\\delta$ como:\n",
        "   $$\n",
        "   \\delta\n",
        "   \\;=\\;\n",
        "   R + \\gamma \\,\\widehat{q}(S', A', \\mathbf{w})\n",
        "       - \\widehat{q}(S, A, \\mathbf{w}).\n",
        "   $$\n",
        "   Entonces, la actualización es:\n",
        "   $$\n",
        "   \\mathbf{w}\n",
        "   \\;\\leftarrow\\;\n",
        "   \\mathbf{w}\n",
        "   \\;+\\; \\alpha \\,\\delta \\,\\mathbf{x}(S, A).\n",
        "   $$\n",
        "\n",
        "  Particularizando a Tile Coding:  \n",
        "   - $\\mathbf{x}(S,A)$ es un vector de dimensión $d$ (el total de “features” o tiles posibles).  \n",
        "   - En Tile Coding, solo los tiles **activos** tienen valor 1; el resto son 0.  \n",
        "   - Esto significa que, para cada transición, **solo se actualizan los pesos correspondientes a los tiles activos**.  \n",
        "\n",
        "  En la práctica, si $\\mathbf{x}(S, A)$ tuviera posiciones $\\{i_1, i_2, \\dots, i_k\\}$ activas (con valor 1), la actualización es:\n",
        "   $$\n",
        "   w_{i_j}\n",
        "   \\;\\leftarrow\\;\n",
        "   w_{i_j}\n",
        "   \\;+\\; \\alpha \\,\\delta\n",
        "   \\quad\\text{para cada } j=1,\\dots,k.\n",
        "   $$"
      ]
    },
    {
      "cell_type": "code",
      "source": [
        "# @title Aprendizaje\n",
        "agent = AgentSemiGradientSARSA(tcenv, epsilon=1, decay=True, discount_factor=0.99, alpha = 0.1)\n",
        "agent.reset()\n",
        "agent.train(num_episodes=50000)\n",
        "\n",
        "# Estadísticos\n",
        "list_stats, episode_lengths = agent.get_stats()"
      ],
      "metadata": {
        "id": "CemKUW8aK3yW"
      },
      "execution_count": null,
      "outputs": []
    },
    {
      "cell_type": "code",
      "source": [
        "#@title Proporción de aciertos por número de episodios\n",
        "\n",
        "plot(list_stats)\n",
        "print(f\"Máxima proporción: {list_stats[-1]}\")"
      ],
      "metadata": {
        "id": "V1RHjIz1UgUi",
        "outputId": "63ad07a9-252c-481e-c2a0-103f244f7e4d",
        "colab": {
          "base_uri": "https://localhost:8080/",
          "height": 736
        }
      },
      "execution_count": 22,
      "outputs": [
        {
          "output_type": "display_data",
          "data": {
            "text/plain": [
              "<Figure size 1500x800 with 1 Axes>"
            ],
            "image/png": "[encoded data removed]"
          },
          "metadata": {}
        },
        {
          "output_type": "stream",
          "name": "stdout",
          "text": [
            "Máxima proporción: -200.0\n"
          ]
        }
      ]
    },
    {
      "cell_type": "code",
      "source": [
        "#@title Longitud de los episodios\n",
        "\n",
        "plot_episode_lengths(episode_lengths)"
      ],
      "metadata": {
        "id": "un-sVSvhXCEF",
        "outputId": "4875dd96-7f72-422a-85e6-c612bf0558d2",
        "colab": {
          "base_uri": "https://localhost:8080/",
          "height": 718
        }
      },
      "execution_count": 23,
      "outputs": [
        {
          "output_type": "display_data",
          "data": {
            "text/plain": [
              "<Figure size 1500x800 with 1 Axes>"
            ],
            "image/png": "[encoded data removed]"
          },
          "metadata": {}
        }
      ]
    },
    {
      "cell_type": "code",
      "source": [
        "#@title Histograma con la longitud de los episodios\n",
        "\n",
        "plot_episode_lengths_histogram(episode_lengths)"
      ],
      "metadata": {
        "id": "6Z9ZaP3RXEYF",
        "outputId": "39f23b45-7a64-43de-e903-e4d683cf47f5",
        "colab": {
          "base_uri": "https://localhost:8080/",
          "height": 719
        }
      },
      "execution_count": 24,
      "outputs": [
        {
          "output_type": "display_data",
          "data": {
            "text/plain": [
              "<Figure size 1500x800 with 1 Axes>"
            ],
            "image/png": "[encoded data removed]"
          },
          "metadata": {}
        }
      ]
    },
    {
      "cell_type": "code",
      "source": [
        "# @title Simulaciones en vídeo\n",
        "import gymnasium as gym\n",
        "from gymnasium.wrappers import RecordEpisodeStatistics, RecordVideo\n",
        "\n",
        "# Solo grabamos 10 episodios, por ejemplo\n",
        "trigger = lambda episode_id: episode_id < 10  # Graba solo los primeros 10 episodios\n",
        "\n",
        "# Aplica el wrapper RecordVideo para grabar vídeos\n",
        "env = gym.wrappers.RecordVideo(\n",
        "    tcenv,\n",
        "    video_folder=video_folder,\n",
        "    episode_trigger=trigger,  # Graba solo los primeros 10 episodios\n",
        ")\n",
        "\n",
        "num_episodes = 10 # Número de episodios a grabar\n",
        "#observation, info = env.reset(seed=42)\n",
        "for episode in range(num_episodes):\n",
        "    observation, info = env.reset(seed=seed)\n",
        "    episode_over = False\n",
        "    while not episode_over:\n",
        "\n",
        "        active_features = tcenv.last_active_features\n",
        "\n",
        "        # Renderiza el frame actual, esto lo guardará en el archivo de video.\n",
        "        env.render()\n",
        "\n",
        "        # El agente elige la acción usando la política entrenada\n",
        "        action = agent.get_action(active_features)\n",
        "\n",
        "        # Ejecuta un paso en el entorno con la acción seleccionada.\n",
        "        # Obtiene la siguiente observación, la recompensa,\n",
        "        # y si el episodio ha terminado (terminated) o ha sido truncado (truncated).\n",
        "        observation, reward, terminated, truncated, info = env.step(action)\n",
        "\n",
        "        # Verifica si el episodio ha terminado, ya sea por terminación o truncamiento.\n",
        "        episode_over = terminated or truncated\n",
        "\n",
        "\n",
        "env.close() # Importante cerrar el entorno, ¡esto finaliza la grabación de vídeo!\n",
        "print(f\"Grabación de episodios completada. Vídeos guardados en la carpeta '{video_folder}'\")"
      ],
      "metadata": {
        "id": "wXZ6rTguXNb-"
      },
      "execution_count": null,
      "outputs": []
    },
    {
      "cell_type": "code",
      "source": [
        "latest_file = get_latest_episode_video_file(video_folder)\n",
        "print(f\"Último vídeo: {latest_file}\") # outputs: ./video/rl-video-episode-4.mp4\n",
        "embed_video(latest_file)"
      ],
      "metadata": {
        "id": "1XuNpdWuqe_C",
        "outputId": "79bb515b-ef17-4e8c-cfd7-23d17028505f",
        "colab": {
          "base_uri": "https://localhost:8080/",
          "height": 439
        }
      },
      "execution_count": 28,
      "outputs": [
        {
          "output_type": "stream",
          "name": "stdout",
          "text": [
            "Último vídeo: videos/rl-video-episode-9.mp4\n"
          ]
        },
        {
          "output_type": "display_data",
          "data": {
            "text/plain": [
              "<IPython.core.display.HTML object>"
            ],
            "text/html": [
              "<video alt=\"test\" autoplay\n",
              "                loop controls style=\"height: 400px;\">\n",
              "                <source src=\"data:video/mp4;base64,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\" type=\"video/mp4\" />\n",
              "                </video>"
            ]
          },
          "metadata": {}
        }
      ]
    },
    {
      "cell_type": "markdown",
      "source": [
        "## **2. Deep Q-Learning**\n",
        "\n",
        "**Deep Q-Learning (DQN)** es una extensión de Q-Learning clásico que utiliza redes neuronales profundas para aproximar $q(s, a)$ con una red neuronal que:\n",
        "\n",
        "- **Toma un estado s como entrada**:\n",
        "  - Un vector (en entornos simples), una imagen (en videojuegos o tareas visuales).\n",
        "  \n",
        "- **La salida produce un vector de valores q(s, a) para todas las acciones posibles a**.\n",
        "\n",
        "La función de aproximación $\\hat{q}(s, a; w)$ es una red neuronal donde $w$ son los parámetros de la red.\n",
        "\n",
        "**Características de DQN**:\n",
        " - La red se entrena para minimizar el error cuadrático medio (MSE) entre la salida actual y el objetivo:\n",
        "$$L(w) = \\mathbb{E}_{(s, a, r, s′)}[(y − \\hat{q}(s, a; w))^2]$$\n",
        "  donde:\n",
        "  - $\\hat{q}(s, a; w)$ es la estimación actual.\n",
        "  - El target es una copia congelada de la red principal.\n",
        "    - $y = r + \\gamma \\max_{a′} \\hat{q}(s′, a′; w_{target})$.\n",
        "    - $w_{target}$ son los parámetros de una red separada (target network).\n",
        "  \n",
        "- Aplica **Replay Buffer** (muestreo).\n"
      ],
      "metadata": {
        "id": "Y6RolZeWusHO"
      }
    },
    {
      "cell_type": "code",
      "source": [
        "# @title Aprendizaje\n",
        "agent = AgentDeepQLearning(tcenv, epsilon=1, decay=True, discount_factor=0.99, alpha = 0.1, memory_capacity = 10000, batch_size = 32, learning_rate = 0.0005)\n",
        "agent.reset()\n",
        "agent.train(num_episodes=50000)\n",
        "\n",
        "# Estadísticos\n",
        "list_stats, episode_lengths = agent.get_stats()"
      ],
      "metadata": {
        "id": "M9ZPJ2UCwkn-"
      },
      "execution_count": null,
      "outputs": []
    },
    {
      "cell_type": "code",
      "source": [
        "#@title Proporción de aciertos por número de episodios\n",
        "\n",
        "plot(list_stats)\n",
        "print(f\"Máxima proporción: {list_stats[-1]}\")"
      ],
      "metadata": {
        "id": "ENLCh3vZxiEb"
      },
      "execution_count": null,
      "outputs": []
    },
    {
      "cell_type": "code",
      "source": [
        "#@title Longitud de los episodios\n",
        "\n",
        "plot_episode_lengths(episode_lengths)"
      ],
      "metadata": {
        "id": "__FitdG2xlye"
      },
      "execution_count": null,
      "outputs": []
    },
    {
      "cell_type": "code",
      "source": [
        "#@title Histograma con la longitud de los episodios\n",
        "\n",
        "plot_episode_lengths_histogram(episode_lengths)"
      ],
      "metadata": {
        "id": "takxbFbvyDKp"
      },
      "execution_count": null,
      "outputs": []
    },
    {
      "cell_type": "code",
      "source": [
        "# @title Simulaciones en vídeo\n",
        "import gymnasium as gym\n",
        "from gymnasium.wrappers import RecordEpisodeStatistics, RecordVideo\n",
        "\n",
        "# Solo grabamos 10 episodios, por ejemplo\n",
        "trigger = lambda episode_id: episode_id < 10  # Graba solo los primeros 10 episodios\n",
        "\n",
        "# Aplica el wrapper RecordVideo para grabar vídeos\n",
        "env = gym.wrappers.RecordVideo(\n",
        "    tcenv,\n",
        "    video_folder=video_folder,\n",
        "    episode_trigger=trigger,  # Graba solo los primeros 10 episodios\n",
        ")\n",
        "\n",
        "num_episodes = 10 # Número de episodios a grabar\n",
        "#observation, info = env.reset(seed=42)\n",
        "for episode in range(num_episodes):\n",
        "    observation, info = env.reset(seed=seed)\n",
        "    episode_over = False\n",
        "    while not episode_over:\n",
        "\n",
        "        # Renderiza el frame actual, esto lo guardará en el archivo de video.\n",
        "        env.render()\n",
        "\n",
        "        # El agente elige la acción usando la política entrenada\n",
        "        action = agent.get_action(observation)\n",
        "\n",
        "        # Ejecuta un paso en el entorno con la acción seleccionada.\n",
        "        # Obtiene la siguiente observación, la recompensa,\n",
        "        # y si el episodio ha terminado (terminated) o ha sido truncado (truncated).\n",
        "        observation, reward, terminated, truncated, info = env.step(action)\n",
        "\n",
        "        # Verifica si el episodio ha terminado, ya sea por terminación o truncamiento.\n",
        "        episode_over = terminated or truncated\n",
        "\n",
        "\n",
        "env.close() # Importante cerrar el entorno, ¡esto finaliza la grabación de vídeo!\n",
        "print(f\"Grabación de episodios completada. Vídeos guardados en la carpeta '{video_folder}'\")"
      ],
      "metadata": {
        "id": "beQq0Qd5yGzk"
      },
      "execution_count": null,
      "outputs": []
    },
    {
      "cell_type": "code",
      "source": [
        "latest_file = get_latest_episode_video_file(video_folder)\n",
        "print(f\"Último vídeo: {latest_file}\") # outputs: ./video/rl-video-episode-4.mp4\n",
        "embed_video(latest_file)"
      ],
      "metadata": {
        "id": "s7UorLIGzXXQ"
      },
      "execution_count": null,
      "outputs": []
    }
  ],
  "metadata": {
    "colab": {
      "provenance": [],
      "include_colab_link": true
    },
    "kernelspec": {
      "display_name": "Python 3",
      "language": "python",
      "name": "python3"
    },
    "language_info": {
      "codemirror_mode": {
        "name": "ipython",
        "version": 3
      },
      "file_extension": ".py",
      "mimetype": "text/x-python",
      "name": "python",
      "nbconvert_exporter": "python",
      "pygments_lexer": "ipython3",
      "version": "3.8.5"
    }
  },
  "nbformat": 4,
  "nbformat_minor": 0
}